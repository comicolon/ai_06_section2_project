{
 "cells": [
  {
   "cell_type": "markdown",
   "source": [
    "# 새로운 모델 적용"
   ],
   "metadata": {}
  },
  {
   "cell_type": "code",
   "execution_count": 1,
   "source": [
    "## 데이터를 불러 온다\r\n",
    "import pandas as pd\r\n",
    "import numpy as np\r\n",
    "pd.set_option('display.max_columns', 100)\r\n",
    "\r\n",
    "df_train = pd.read_csv('archive/train.csv')\r\n",
    "df_test = pd.read_csv('archive/test.csv')\r\n",
    "df_park = pd.read_csv('archive/park_dimensions.csv')\r\n",
    "\r\n",
    "df_train.shape, df_test.shape"
   ],
   "outputs": [
    {
     "output_type": "execute_result",
     "data": {
      "text/plain": [
       "((46244, 25), (65779, 24))"
      ]
     },
     "metadata": {},
     "execution_count": 1
    }
   ],
   "metadata": {}
  },
  {
   "cell_type": "code",
   "execution_count": 2,
   "source": [
    "## 원본 데이터 보존\r\n",
    "train = df_train\r\n",
    "test = df_test\r\n",
    "park = df_park"
   ],
   "outputs": [],
   "metadata": {}
  },
  {
   "cell_type": "code",
   "execution_count": 3,
   "source": [
    "## 전처리\r\n",
    "train[['plate_x', 'plate_z']] = train[['plate_x', 'plate_z']].apply(lambda x : x * 0.3048)\r\n",
    "train[['pitch_mph', 'launch_speed']] = train[['pitch_mph', 'launch_speed']].apply(lambda x : x * 1.60934)\r\n",
    "\r\n",
    "test[['plate_x', 'plate_z']] = test[['plate_x', 'plate_z']].apply(lambda x : x * 0.3048)\r\n",
    "test[['pitch_mph', 'launch_speed']] = test[['pitch_mph', 'launch_speed']].apply(lambda x : x * 1.60934)\r\n",
    "\r\n",
    "park[['LF_Dim', 'CF_Dim', 'RF_Dim', 'LF_W', 'CF_W', 'RF_W']] = park[['LF_Dim', 'CF_Dim', 'RF_Dim', 'LF_W', 'CF_W', 'RF_W']].apply(lambda x: x * 0.3048)\r\n",
    "\r\n",
    "# 컬럼명 변경\r\n",
    "train.rename(columns= {'pitch_mph' : 'pitch_kph'})\r\n",
    "test.rename(columns= {'pitch_mph' : 'pitch_kph'})"
   ],
   "outputs": [
    {
     "output_type": "execute_result",
     "data": {
      "text/plain": [
       "       bip_id            game_date home_team away_team batter_team  \\\n",
       "0          16  2021-06-23 00:00:00       MIA       TOR         MIA   \n",
       "1          17  2021-06-23 00:00:00       MIA       TOR         MIA   \n",
       "2          18  2021-06-01 00:00:00       TOR       MIA         MIA   \n",
       "3          19  2021-06-01 00:00:00       TOR       MIA         MIA   \n",
       "4          32  2021-06-13 00:00:00       BOS       TOR         BOS   \n",
       "...       ...                  ...       ...       ...         ...   \n",
       "65774  119513  2021-05-22 00:00:00       STL       CHC         CHC   \n",
       "65775  119514  2021-05-22 00:00:00       STL       CHC         CHC   \n",
       "65776  119515  2021-05-22 00:00:00       STL       CHC         CHC   \n",
       "65777  119521  2021-05-14 00:00:00       ARI       WSH         WSH   \n",
       "65778  119522  2021-06-04 00:00:00        KC       MIN          KC   \n",
       "\n",
       "              batter_name         pitcher_name  batter_id  pitcher_id  \\\n",
       "0         marte, starling          ray, robbie     516782      592662   \n",
       "1         marte, starling          ray, robbie     516782      592662   \n",
       "2         marte, starling          ray, robbie     516782      592662   \n",
       "3         marte, starling          ray, robbie     516782      592662   \n",
       "4      hernandez, enrique          ray, robbie     571771      592662   \n",
       "...                   ...                  ...        ...         ...   \n",
       "65774      rizzo, anthony       mikolas, miles     519203      571945   \n",
       "65775       hoerner, nico       mikolas, miles     663538      571945   \n",
       "65776       hoerner, nico       mikolas, miles     663538      571945   \n",
       "65777       mercer, jordy       peralta, david     474568      444482   \n",
       "65778   gutierrez, kelvin  astudillo, willians     642721      553902   \n",
       "\n",
       "       is_batter_lefty  is_pitcher_lefty      bb_type bearing pitch_name  \\\n",
       "0                    0                 1     fly_ball  center     Slider   \n",
       "1                    0                 1  ground_ball  center     Slider   \n",
       "2                    0                 1     fly_ball    left     Slider   \n",
       "3                    0                 1  ground_ball    left     Slider   \n",
       "4                    0                 1   line_drive  center     Slider   \n",
       "...                ...               ...          ...     ...        ...   \n",
       "65774                1                 0  ground_ball    left     Sinker   \n",
       "65775                0                 0        popup   right     Slider   \n",
       "65776                0                 0  ground_ball  center     Sinker   \n",
       "65777                0                 1   line_drive  center   Fastball   \n",
       "65778                0                 0        popup   right   Fastball   \n",
       "\n",
       "       park  inning  outs_when_up  balls  strikes   plate_x   plate_z  \\\n",
       "0        14       6             0      2        1 -0.027432  0.640080   \n",
       "1        14       1             1      1        2  0.204216  0.521208   \n",
       "2        28       5             2      0        0 -0.152400  0.795528   \n",
       "3        28       3             2      2        1 -0.137160  0.542544   \n",
       "4         3       5             2      0        0  0.079248  0.697992   \n",
       "...     ...     ...           ...    ...      ...       ...       ...   \n",
       "65774    25       1             1      0        2 -0.091440  1.060704   \n",
       "65775    25       4             2      3        2  0.423672  0.493776   \n",
       "65776    25       2             1      0        2 -0.070104  0.893064   \n",
       "65777     0       9             1      0        2 -0.188976  0.914400   \n",
       "65778    11       8             0      1        2 -0.097536  0.752856   \n",
       "\n",
       "        pitch_kph  launch_speed  launch_angle  \n",
       "0      140.978184    175.418060          22.0  \n",
       "1      142.265656     41.038170           NaN  \n",
       "2      143.392194    151.599828           NaN  \n",
       "3      145.484336    133.736154           NaN  \n",
       "4      145.001534    173.969654           NaN  \n",
       "...           ...           ...           ...  \n",
       "65774  146.128072           NaN         -23.0  \n",
       "65775  136.150164     88.191832          47.0  \n",
       "65776  146.610874    128.103464           NaN  \n",
       "65777  115.550612           NaN          20.0  \n",
       "65778  131.965880    106.860176          68.0  \n",
       "\n",
       "[65779 rows x 24 columns]"
      ],
      "text/html": [
       "<div>\n",
       "<style scoped>\n",
       "    .dataframe tbody tr th:only-of-type {\n",
       "        vertical-align: middle;\n",
       "    }\n",
       "\n",
       "    .dataframe tbody tr th {\n",
       "        vertical-align: top;\n",
       "    }\n",
       "\n",
       "    .dataframe thead th {\n",
       "        text-align: right;\n",
       "    }\n",
       "</style>\n",
       "<table border=\"1\" class=\"dataframe\">\n",
       "  <thead>\n",
       "    <tr style=\"text-align: right;\">\n",
       "      <th></th>\n",
       "      <th>bip_id</th>\n",
       "      <th>game_date</th>\n",
       "      <th>home_team</th>\n",
       "      <th>away_team</th>\n",
       "      <th>batter_team</th>\n",
       "      <th>batter_name</th>\n",
       "      <th>pitcher_name</th>\n",
       "      <th>batter_id</th>\n",
       "      <th>pitcher_id</th>\n",
       "      <th>is_batter_lefty</th>\n",
       "      <th>is_pitcher_lefty</th>\n",
       "      <th>bb_type</th>\n",
       "      <th>bearing</th>\n",
       "      <th>pitch_name</th>\n",
       "      <th>park</th>\n",
       "      <th>inning</th>\n",
       "      <th>outs_when_up</th>\n",
       "      <th>balls</th>\n",
       "      <th>strikes</th>\n",
       "      <th>plate_x</th>\n",
       "      <th>plate_z</th>\n",
       "      <th>pitch_kph</th>\n",
       "      <th>launch_speed</th>\n",
       "      <th>launch_angle</th>\n",
       "    </tr>\n",
       "  </thead>\n",
       "  <tbody>\n",
       "    <tr>\n",
       "      <th>0</th>\n",
       "      <td>16</td>\n",
       "      <td>2021-06-23 00:00:00</td>\n",
       "      <td>MIA</td>\n",
       "      <td>TOR</td>\n",
       "      <td>MIA</td>\n",
       "      <td>marte, starling</td>\n",
       "      <td>ray, robbie</td>\n",
       "      <td>516782</td>\n",
       "      <td>592662</td>\n",
       "      <td>0</td>\n",
       "      <td>1</td>\n",
       "      <td>fly_ball</td>\n",
       "      <td>center</td>\n",
       "      <td>Slider</td>\n",
       "      <td>14</td>\n",
       "      <td>6</td>\n",
       "      <td>0</td>\n",
       "      <td>2</td>\n",
       "      <td>1</td>\n",
       "      <td>-0.027432</td>\n",
       "      <td>0.640080</td>\n",
       "      <td>140.978184</td>\n",
       "      <td>175.418060</td>\n",
       "      <td>22.0</td>\n",
       "    </tr>\n",
       "    <tr>\n",
       "      <th>1</th>\n",
       "      <td>17</td>\n",
       "      <td>2021-06-23 00:00:00</td>\n",
       "      <td>MIA</td>\n",
       "      <td>TOR</td>\n",
       "      <td>MIA</td>\n",
       "      <td>marte, starling</td>\n",
       "      <td>ray, robbie</td>\n",
       "      <td>516782</td>\n",
       "      <td>592662</td>\n",
       "      <td>0</td>\n",
       "      <td>1</td>\n",
       "      <td>ground_ball</td>\n",
       "      <td>center</td>\n",
       "      <td>Slider</td>\n",
       "      <td>14</td>\n",
       "      <td>1</td>\n",
       "      <td>1</td>\n",
       "      <td>1</td>\n",
       "      <td>2</td>\n",
       "      <td>0.204216</td>\n",
       "      <td>0.521208</td>\n",
       "      <td>142.265656</td>\n",
       "      <td>41.038170</td>\n",
       "      <td>NaN</td>\n",
       "    </tr>\n",
       "    <tr>\n",
       "      <th>2</th>\n",
       "      <td>18</td>\n",
       "      <td>2021-06-01 00:00:00</td>\n",
       "      <td>TOR</td>\n",
       "      <td>MIA</td>\n",
       "      <td>MIA</td>\n",
       "      <td>marte, starling</td>\n",
       "      <td>ray, robbie</td>\n",
       "      <td>516782</td>\n",
       "      <td>592662</td>\n",
       "      <td>0</td>\n",
       "      <td>1</td>\n",
       "      <td>fly_ball</td>\n",
       "      <td>left</td>\n",
       "      <td>Slider</td>\n",
       "      <td>28</td>\n",
       "      <td>5</td>\n",
       "      <td>2</td>\n",
       "      <td>0</td>\n",
       "      <td>0</td>\n",
       "      <td>-0.152400</td>\n",
       "      <td>0.795528</td>\n",
       "      <td>143.392194</td>\n",
       "      <td>151.599828</td>\n",
       "      <td>NaN</td>\n",
       "    </tr>\n",
       "    <tr>\n",
       "      <th>3</th>\n",
       "      <td>19</td>\n",
       "      <td>2021-06-01 00:00:00</td>\n",
       "      <td>TOR</td>\n",
       "      <td>MIA</td>\n",
       "      <td>MIA</td>\n",
       "      <td>marte, starling</td>\n",
       "      <td>ray, robbie</td>\n",
       "      <td>516782</td>\n",
       "      <td>592662</td>\n",
       "      <td>0</td>\n",
       "      <td>1</td>\n",
       "      <td>ground_ball</td>\n",
       "      <td>left</td>\n",
       "      <td>Slider</td>\n",
       "      <td>28</td>\n",
       "      <td>3</td>\n",
       "      <td>2</td>\n",
       "      <td>2</td>\n",
       "      <td>1</td>\n",
       "      <td>-0.137160</td>\n",
       "      <td>0.542544</td>\n",
       "      <td>145.484336</td>\n",
       "      <td>133.736154</td>\n",
       "      <td>NaN</td>\n",
       "    </tr>\n",
       "    <tr>\n",
       "      <th>4</th>\n",
       "      <td>32</td>\n",
       "      <td>2021-06-13 00:00:00</td>\n",
       "      <td>BOS</td>\n",
       "      <td>TOR</td>\n",
       "      <td>BOS</td>\n",
       "      <td>hernandez, enrique</td>\n",
       "      <td>ray, robbie</td>\n",
       "      <td>571771</td>\n",
       "      <td>592662</td>\n",
       "      <td>0</td>\n",
       "      <td>1</td>\n",
       "      <td>line_drive</td>\n",
       "      <td>center</td>\n",
       "      <td>Slider</td>\n",
       "      <td>3</td>\n",
       "      <td>5</td>\n",
       "      <td>2</td>\n",
       "      <td>0</td>\n",
       "      <td>0</td>\n",
       "      <td>0.079248</td>\n",
       "      <td>0.697992</td>\n",
       "      <td>145.001534</td>\n",
       "      <td>173.969654</td>\n",
       "      <td>NaN</td>\n",
       "    </tr>\n",
       "    <tr>\n",
       "      <th>...</th>\n",
       "      <td>...</td>\n",
       "      <td>...</td>\n",
       "      <td>...</td>\n",
       "      <td>...</td>\n",
       "      <td>...</td>\n",
       "      <td>...</td>\n",
       "      <td>...</td>\n",
       "      <td>...</td>\n",
       "      <td>...</td>\n",
       "      <td>...</td>\n",
       "      <td>...</td>\n",
       "      <td>...</td>\n",
       "      <td>...</td>\n",
       "      <td>...</td>\n",
       "      <td>...</td>\n",
       "      <td>...</td>\n",
       "      <td>...</td>\n",
       "      <td>...</td>\n",
       "      <td>...</td>\n",
       "      <td>...</td>\n",
       "      <td>...</td>\n",
       "      <td>...</td>\n",
       "      <td>...</td>\n",
       "      <td>...</td>\n",
       "    </tr>\n",
       "    <tr>\n",
       "      <th>65774</th>\n",
       "      <td>119513</td>\n",
       "      <td>2021-05-22 00:00:00</td>\n",
       "      <td>STL</td>\n",
       "      <td>CHC</td>\n",
       "      <td>CHC</td>\n",
       "      <td>rizzo, anthony</td>\n",
       "      <td>mikolas, miles</td>\n",
       "      <td>519203</td>\n",
       "      <td>571945</td>\n",
       "      <td>1</td>\n",
       "      <td>0</td>\n",
       "      <td>ground_ball</td>\n",
       "      <td>left</td>\n",
       "      <td>Sinker</td>\n",
       "      <td>25</td>\n",
       "      <td>1</td>\n",
       "      <td>1</td>\n",
       "      <td>0</td>\n",
       "      <td>2</td>\n",
       "      <td>-0.091440</td>\n",
       "      <td>1.060704</td>\n",
       "      <td>146.128072</td>\n",
       "      <td>NaN</td>\n",
       "      <td>-23.0</td>\n",
       "    </tr>\n",
       "    <tr>\n",
       "      <th>65775</th>\n",
       "      <td>119514</td>\n",
       "      <td>2021-05-22 00:00:00</td>\n",
       "      <td>STL</td>\n",
       "      <td>CHC</td>\n",
       "      <td>CHC</td>\n",
       "      <td>hoerner, nico</td>\n",
       "      <td>mikolas, miles</td>\n",
       "      <td>663538</td>\n",
       "      <td>571945</td>\n",
       "      <td>0</td>\n",
       "      <td>0</td>\n",
       "      <td>popup</td>\n",
       "      <td>right</td>\n",
       "      <td>Slider</td>\n",
       "      <td>25</td>\n",
       "      <td>4</td>\n",
       "      <td>2</td>\n",
       "      <td>3</td>\n",
       "      <td>2</td>\n",
       "      <td>0.423672</td>\n",
       "      <td>0.493776</td>\n",
       "      <td>136.150164</td>\n",
       "      <td>88.191832</td>\n",
       "      <td>47.0</td>\n",
       "    </tr>\n",
       "    <tr>\n",
       "      <th>65776</th>\n",
       "      <td>119515</td>\n",
       "      <td>2021-05-22 00:00:00</td>\n",
       "      <td>STL</td>\n",
       "      <td>CHC</td>\n",
       "      <td>CHC</td>\n",
       "      <td>hoerner, nico</td>\n",
       "      <td>mikolas, miles</td>\n",
       "      <td>663538</td>\n",
       "      <td>571945</td>\n",
       "      <td>0</td>\n",
       "      <td>0</td>\n",
       "      <td>ground_ball</td>\n",
       "      <td>center</td>\n",
       "      <td>Sinker</td>\n",
       "      <td>25</td>\n",
       "      <td>2</td>\n",
       "      <td>1</td>\n",
       "      <td>0</td>\n",
       "      <td>2</td>\n",
       "      <td>-0.070104</td>\n",
       "      <td>0.893064</td>\n",
       "      <td>146.610874</td>\n",
       "      <td>128.103464</td>\n",
       "      <td>NaN</td>\n",
       "    </tr>\n",
       "    <tr>\n",
       "      <th>65777</th>\n",
       "      <td>119521</td>\n",
       "      <td>2021-05-14 00:00:00</td>\n",
       "      <td>ARI</td>\n",
       "      <td>WSH</td>\n",
       "      <td>WSH</td>\n",
       "      <td>mercer, jordy</td>\n",
       "      <td>peralta, david</td>\n",
       "      <td>474568</td>\n",
       "      <td>444482</td>\n",
       "      <td>0</td>\n",
       "      <td>1</td>\n",
       "      <td>line_drive</td>\n",
       "      <td>center</td>\n",
       "      <td>Fastball</td>\n",
       "      <td>0</td>\n",
       "      <td>9</td>\n",
       "      <td>1</td>\n",
       "      <td>0</td>\n",
       "      <td>2</td>\n",
       "      <td>-0.188976</td>\n",
       "      <td>0.914400</td>\n",
       "      <td>115.550612</td>\n",
       "      <td>NaN</td>\n",
       "      <td>20.0</td>\n",
       "    </tr>\n",
       "    <tr>\n",
       "      <th>65778</th>\n",
       "      <td>119522</td>\n",
       "      <td>2021-06-04 00:00:00</td>\n",
       "      <td>KC</td>\n",
       "      <td>MIN</td>\n",
       "      <td>KC</td>\n",
       "      <td>gutierrez, kelvin</td>\n",
       "      <td>astudillo, willians</td>\n",
       "      <td>642721</td>\n",
       "      <td>553902</td>\n",
       "      <td>0</td>\n",
       "      <td>0</td>\n",
       "      <td>popup</td>\n",
       "      <td>right</td>\n",
       "      <td>Fastball</td>\n",
       "      <td>11</td>\n",
       "      <td>8</td>\n",
       "      <td>0</td>\n",
       "      <td>1</td>\n",
       "      <td>2</td>\n",
       "      <td>-0.097536</td>\n",
       "      <td>0.752856</td>\n",
       "      <td>131.965880</td>\n",
       "      <td>106.860176</td>\n",
       "      <td>68.0</td>\n",
       "    </tr>\n",
       "  </tbody>\n",
       "</table>\n",
       "<p>65779 rows × 24 columns</p>\n",
       "</div>"
      ]
     },
     "metadata": {},
     "execution_count": 3
    }
   ],
   "metadata": {}
  },
  {
   "cell_type": "markdown",
   "source": [
    "## Boosting(xgboost for gradient boosting)를 사용"
   ],
   "metadata": {}
  },
  {
   "cell_type": "code",
   "execution_count": 4,
   "source": [
    "## 훈련 검증 세트를 나눈다\r\n",
    "from sklearn.model_selection import train_test_split\r\n",
    "train, val = train_test_split(train, train_size=0.8, test_size=0.2, random_state=774)\r\n",
    "train.shape, val.shape"
   ],
   "outputs": [
    {
     "output_type": "execute_result",
     "data": {
      "text/plain": [
       "((36995, 25), (9249, 25))"
      ]
     },
     "metadata": {},
     "execution_count": 4
    }
   ],
   "metadata": {}
  },
  {
   "cell_type": "code",
   "execution_count": 5,
   "source": [
    "target = 'is_home_run'\r\n",
    "features = train.columns.drop([target])\r\n",
    "X_train = train[features]\r\n",
    "y_train = train[target]\r\n",
    "X_val = val[features]\r\n",
    "y_val = val[target]"
   ],
   "outputs": [],
   "metadata": {}
  },
  {
   "cell_type": "code",
   "execution_count": 6,
   "source": [
    "from category_encoders import OrdinalEncoder\r\n",
    "from sklearn.pipeline import make_pipeline\r\n",
    "from sklearn.impute import SimpleImputer\r\n",
    "from xgboost import XGBClassifier\r\n",
    "\r\n",
    "pipe = make_pipeline(\r\n",
    "    OrdinalEncoder(),\r\n",
    "    SimpleImputer(strategy='median'),\r\n",
    "    XGBClassifier(n_estimators=200\r\n",
    "                  , random_state=2\r\n",
    "                  , n_jobs=-1\r\n",
    "                  , max_depth=7\r\n",
    "                  , learning_rate=0.2\r\n",
    "                 )\r\n",
    ")\r\n",
    "\r\n",
    "pipe.fit(X_train, y_train);"
   ],
   "outputs": [
    {
     "output_type": "stream",
     "name": "stderr",
     "text": [
      "C:\\Users\\comic\\anaconda3\\lib\\site-packages\\xgboost\\sklearn.py:1146: UserWarning: The use of label encoder in XGBClassifier is deprecated and will be removed in a future release. To remove this warning, do the following: 1) Pass option use_label_encoder=False when constructing XGBClassifier object; and 2) Encode your labels (y) as integers starting with 0, i.e. 0, 1, 2, ..., [num_class - 1].\n",
      "  warnings.warn(label_encoder_deprecation_msg, UserWarning)\n"
     ]
    },
    {
     "output_type": "stream",
     "name": "stdout",
     "text": [
      "[09:37:56] WARNING: C:/Users/Administrator/workspace/xgboost-win64_release_1.4.0/src/learner.cc:1095: Starting in XGBoost 1.3.0, the default evaluation metric used with the objective 'binary:logistic' was changed from 'error' to 'logloss'. Explicitly set eval_metric if you'd like to restore the old behavior.\n"
     ]
    }
   ],
   "metadata": {}
  },
  {
   "cell_type": "code",
   "execution_count": 8,
   "source": [
    "from sklearn.metrics import f1_score, accuracy_score\r\n",
    "y_pred = pipe.predict(X_val)\r\n",
    "print('검증 정확도: ', accuracy_score(y_val, y_pred))\r\n",
    "print('f1 score : ', f1_score(y_val, y_pred))"
   ],
   "outputs": [
    {
     "output_type": "stream",
     "name": "stdout",
     "text": [
      "검증 정확도:  0.9626986701265001\n",
      "f1 score :  0.538152610441767\n"
     ]
    }
   ],
   "metadata": {}
  },
  {
   "cell_type": "markdown",
   "source": [
    "랜덤 포레스트 모델보다 성능이 향상 되었다.\r\n",
    "\r\n",
    "### 하이퍼 파라미터 튜닝을 통한 최적화"
   ],
   "metadata": {}
  },
  {
   "cell_type": "code",
   "execution_count": 9,
   "source": [
    "## 타겟의 비율을 맞춰주기 위해 weight를 사용\r\n",
    "vc = y_train.value_counts().tolist()\r\n",
    "vc"
   ],
   "outputs": [
    {
     "output_type": "execute_result",
     "data": {
      "text/plain": [
       "[35003, 1992]"
      ]
     },
     "metadata": {},
     "execution_count": 9
    }
   ],
   "metadata": {}
  },
  {
   "cell_type": "code",
   "execution_count": 10,
   "source": [
    "# sum(negative instances) / sum(positive instances)\r\n",
    "ratio = float(vc[0]/vc[1])\r\n",
    "ratio"
   ],
   "outputs": [
    {
     "output_type": "execute_result",
     "data": {
      "text/plain": [
       "17.571787148594378"
      ]
     },
     "metadata": {},
     "execution_count": 10
    }
   ],
   "metadata": {}
  },
  {
   "cell_type": "code",
   "execution_count": null,
   "source": [
    "\r\n",
    "encoder = OrdinalEncoder()\r\n",
    "X_train_encoded = encoder.fit_transform(X_train) # 학습데이터\r\n",
    "X_val_encoded = encoder.transform(X_val) # 검증데이터\r\n",
    "\r\n",
    "model = XGBClassifier(\r\n",
    "    n_estimators=1000,  # <= 1000 트리로 설정했지만, early stopping 에 따라 조절됩니다.\r\n",
    "    max_depth=15,        # default=3, high cardinality 특성을 위해 기본보다 높여 보았습니다.\r\n",
    "    learning_rate=0.2,\r\n",
    "    scale_pos_weight=ratio, # imbalance 데이터 일 경우 비율을 적용합니다.\r\n",
    "    n_jobs=-1\r\n",
    ")\r\n",
    "\r\n",
    "eval_set = [(X_train_encoded, y_train), \r\n",
    "            (X_val_encoded, y_val)]\r\n",
    "\r\n",
    "model.fit(X_train_encoded, y_train, \r\n",
    "          eval_set=eval_set,\r\n",
    "          eval_metric='error', # #(wrong cases)/#(all cases)\r\n",
    "          early_stopping_rounds=100\r\n",
    "         ) # 100 rounds 동안 스코어의 개선이 없으면 멈춤"
   ],
   "outputs": [],
   "metadata": {}
  },
  {
   "cell_type": "code",
   "execution_count": 51,
   "source": [
    "import matplotlib.pyplot as plt\r\n",
    "\r\n",
    "results = model.evals_result()\r\n",
    "train_error = results['validation_0']['error']\r\n",
    "val_error = results['validation_1']['error']\r\n",
    "\r\n",
    "epoch = range(1, len(train_error)+1)\r\n",
    "plt.plot(epoch, train_error, label='Train')\r\n",
    "plt.plot(epoch, val_error, label='Validation')\r\n",
    "plt.ylabel('Classification Error')\r\n",
    "plt.xlabel('Model Complexity (n_estimators)')\r\n",
    "plt.ylim((0.0, 0.08)) # Zoom in\r\n",
    "plt.legend();"
   ],
   "outputs": [
    {
     "output_type": "display_data",
     "data": {
      "text/plain": [
       "<Figure size 432x288 with 1 Axes>"
      ],
      "image/svg+xml": "<?xml version=\"1.0\" encoding=\"utf-8\" standalone=\"no\"?>\r\n<!DOCTYPE svg PUBLIC \"-//W3C//DTD SVG 1.1//EN\"\r\n  \"http://www.w3.org/Graphics/SVG/1.1/DTD/svg11.dtd\">\r\n<!-- Created with matplotlib (https://matplotlib.org/) -->\r\n<svg height=\"266.273594pt\" version=\"1.1\" viewBox=\"0 0 392.14375 266.273594\" width=\"392.14375pt\" xmlns=\"http://www.w3.org/2000/svg\" xmlns:xlink=\"http://www.w3.org/1999/xlink\">\r\n <metadata>\r\n  <rdf:RDF xmlns:cc=\"http://creativecommons.org/ns#\" xmlns:dc=\"http://purl.org/dc/elements/1.1/\" xmlns:rdf=\"http://www.w3.org/1999/02/22-rdf-syntax-ns#\">\r\n   <cc:Work>\r\n    <dc:type rdf:resource=\"http://purl.org/dc/dcmitype/StillImage\"/>\r\n    <dc:date>2021-09-03T10:56:08.599522</dc:date>\r\n    <dc:format>image/svg+xml</dc:format>\r\n    <dc:creator>\r\n     <cc:Agent>\r\n      <dc:title>Matplotlib v3.3.4, https://matplotlib.org/</dc:title>\r\n     </cc:Agent>\r\n    </dc:creator>\r\n   </cc:Work>\r\n  </rdf:RDF>\r\n </metadata>\r\n <defs>\r\n  <style type=\"text/css\">*{stroke-linecap:butt;stroke-linejoin:round;}</style>\r\n </defs>\r\n <g id=\"figure_1\">\r\n  <g id=\"patch_1\">\r\n   <path d=\"M 0 266.273594 \r\nL 392.14375 266.273594 \r\nL 392.14375 0 \r\nL 0 0 \r\nz\r\n\" style=\"fill:none;\"/>\r\n  </g>\r\n  <g id=\"axes_1\">\r\n   <g id=\"patch_2\">\r\n    <path d=\"M 50.14375 228.439219 \r\nL 384.94375 228.439219 \r\nL 384.94375 10.999219 \r\nL 50.14375 10.999219 \r\nz\r\n\" style=\"fill:#ffffff;\"/>\r\n   </g>\r\n   <g id=\"matplotlib.axis_1\">\r\n    <g id=\"xtick_1\">\r\n     <g id=\"line2d_1\">\r\n      <defs>\r\n       <path d=\"M 0 0 \r\nL 0 3.5 \r\n\" id=\"mee3315dc3e\" style=\"stroke:#000000;stroke-width:0.8;\"/>\r\n      </defs>\r\n      <g>\r\n       <use style=\"stroke:#000000;stroke-width:0.8;\" x=\"64.758036\" xlink:href=\"#mee3315dc3e\" y=\"228.439219\"/>\r\n      </g>\r\n     </g>\r\n     <g id=\"text_1\">\r\n      <!-- 0 -->\r\n      <g transform=\"translate(61.576786 243.037656)scale(0.1 -0.1)\">\r\n       <defs>\r\n        <path d=\"M 31.78125 66.40625 \r\nQ 24.171875 66.40625 20.328125 58.90625 \r\nQ 16.5 51.421875 16.5 36.375 \r\nQ 16.5 21.390625 20.328125 13.890625 \r\nQ 24.171875 6.390625 31.78125 6.390625 \r\nQ 39.453125 6.390625 43.28125 13.890625 \r\nQ 47.125 21.390625 47.125 36.375 \r\nQ 47.125 51.421875 43.28125 58.90625 \r\nQ 39.453125 66.40625 31.78125 66.40625 \r\nz\r\nM 31.78125 74.21875 \r\nQ 44.046875 74.21875 50.515625 64.515625 \r\nQ 56.984375 54.828125 56.984375 36.375 \r\nQ 56.984375 17.96875 50.515625 8.265625 \r\nQ 44.046875 -1.421875 31.78125 -1.421875 \r\nQ 19.53125 -1.421875 13.0625 8.265625 \r\nQ 6.59375 17.96875 6.59375 36.375 \r\nQ 6.59375 54.828125 13.0625 64.515625 \r\nQ 19.53125 74.21875 31.78125 74.21875 \r\nz\r\n\" id=\"DejaVuSans-48\"/>\r\n       </defs>\r\n       <use xlink:href=\"#DejaVuSans-48\"/>\r\n      </g>\r\n     </g>\r\n    </g>\r\n    <g id=\"xtick_2\">\r\n     <g id=\"line2d_2\">\r\n      <g>\r\n       <use style=\"stroke:#000000;stroke-width:0.8;\" x=\"125.147646\" xlink:href=\"#mee3315dc3e\" y=\"228.439219\"/>\r\n      </g>\r\n     </g>\r\n     <g id=\"text_2\">\r\n      <!-- 100 -->\r\n      <g transform=\"translate(115.603896 243.037656)scale(0.1 -0.1)\">\r\n       <defs>\r\n        <path d=\"M 12.40625 8.296875 \r\nL 28.515625 8.296875 \r\nL 28.515625 63.921875 \r\nL 10.984375 60.40625 \r\nL 10.984375 69.390625 \r\nL 28.421875 72.90625 \r\nL 38.28125 72.90625 \r\nL 38.28125 8.296875 \r\nL 54.390625 8.296875 \r\nL 54.390625 0 \r\nL 12.40625 0 \r\nz\r\n\" id=\"DejaVuSans-49\"/>\r\n       </defs>\r\n       <use xlink:href=\"#DejaVuSans-49\"/>\r\n       <use x=\"63.623047\" xlink:href=\"#DejaVuSans-48\"/>\r\n       <use x=\"127.246094\" xlink:href=\"#DejaVuSans-48\"/>\r\n      </g>\r\n     </g>\r\n    </g>\r\n    <g id=\"xtick_3\">\r\n     <g id=\"line2d_3\">\r\n      <g>\r\n       <use style=\"stroke:#000000;stroke-width:0.8;\" x=\"185.537256\" xlink:href=\"#mee3315dc3e\" y=\"228.439219\"/>\r\n      </g>\r\n     </g>\r\n     <g id=\"text_3\">\r\n      <!-- 200 -->\r\n      <g transform=\"translate(175.993506 243.037656)scale(0.1 -0.1)\">\r\n       <defs>\r\n        <path d=\"M 19.1875 8.296875 \r\nL 53.609375 8.296875 \r\nL 53.609375 0 \r\nL 7.328125 0 \r\nL 7.328125 8.296875 \r\nQ 12.9375 14.109375 22.625 23.890625 \r\nQ 32.328125 33.6875 34.8125 36.53125 \r\nQ 39.546875 41.84375 41.421875 45.53125 \r\nQ 43.3125 49.21875 43.3125 52.78125 \r\nQ 43.3125 58.59375 39.234375 62.25 \r\nQ 35.15625 65.921875 28.609375 65.921875 \r\nQ 23.96875 65.921875 18.8125 64.3125 \r\nQ 13.671875 62.703125 7.8125 59.421875 \r\nL 7.8125 69.390625 \r\nQ 13.765625 71.78125 18.9375 73 \r\nQ 24.125 74.21875 28.421875 74.21875 \r\nQ 39.75 74.21875 46.484375 68.546875 \r\nQ 53.21875 62.890625 53.21875 53.421875 \r\nQ 53.21875 48.921875 51.53125 44.890625 \r\nQ 49.859375 40.875 45.40625 35.40625 \r\nQ 44.1875 33.984375 37.640625 27.21875 \r\nQ 31.109375 20.453125 19.1875 8.296875 \r\nz\r\n\" id=\"DejaVuSans-50\"/>\r\n       </defs>\r\n       <use xlink:href=\"#DejaVuSans-50\"/>\r\n       <use x=\"63.623047\" xlink:href=\"#DejaVuSans-48\"/>\r\n       <use x=\"127.246094\" xlink:href=\"#DejaVuSans-48\"/>\r\n      </g>\r\n     </g>\r\n    </g>\r\n    <g id=\"xtick_4\">\r\n     <g id=\"line2d_4\">\r\n      <g>\r\n       <use style=\"stroke:#000000;stroke-width:0.8;\" x=\"245.926867\" xlink:href=\"#mee3315dc3e\" y=\"228.439219\"/>\r\n      </g>\r\n     </g>\r\n     <g id=\"text_4\">\r\n      <!-- 300 -->\r\n      <g transform=\"translate(236.383117 243.037656)scale(0.1 -0.1)\">\r\n       <defs>\r\n        <path d=\"M 40.578125 39.3125 \r\nQ 47.65625 37.796875 51.625 33 \r\nQ 55.609375 28.21875 55.609375 21.1875 \r\nQ 55.609375 10.40625 48.1875 4.484375 \r\nQ 40.765625 -1.421875 27.09375 -1.421875 \r\nQ 22.515625 -1.421875 17.65625 -0.515625 \r\nQ 12.796875 0.390625 7.625 2.203125 \r\nL 7.625 11.71875 \r\nQ 11.71875 9.328125 16.59375 8.109375 \r\nQ 21.484375 6.890625 26.8125 6.890625 \r\nQ 36.078125 6.890625 40.9375 10.546875 \r\nQ 45.796875 14.203125 45.796875 21.1875 \r\nQ 45.796875 27.640625 41.28125 31.265625 \r\nQ 36.765625 34.90625 28.71875 34.90625 \r\nL 20.21875 34.90625 \r\nL 20.21875 43.015625 \r\nL 29.109375 43.015625 \r\nQ 36.375 43.015625 40.234375 45.921875 \r\nQ 44.09375 48.828125 44.09375 54.296875 \r\nQ 44.09375 59.90625 40.109375 62.90625 \r\nQ 36.140625 65.921875 28.71875 65.921875 \r\nQ 24.65625 65.921875 20.015625 65.03125 \r\nQ 15.375 64.15625 9.8125 62.3125 \r\nL 9.8125 71.09375 \r\nQ 15.4375 72.65625 20.34375 73.4375 \r\nQ 25.25 74.21875 29.59375 74.21875 \r\nQ 40.828125 74.21875 47.359375 69.109375 \r\nQ 53.90625 64.015625 53.90625 55.328125 \r\nQ 53.90625 49.265625 50.4375 45.09375 \r\nQ 46.96875 40.921875 40.578125 39.3125 \r\nz\r\n\" id=\"DejaVuSans-51\"/>\r\n       </defs>\r\n       <use xlink:href=\"#DejaVuSans-51\"/>\r\n       <use x=\"63.623047\" xlink:href=\"#DejaVuSans-48\"/>\r\n       <use x=\"127.246094\" xlink:href=\"#DejaVuSans-48\"/>\r\n      </g>\r\n     </g>\r\n    </g>\r\n    <g id=\"xtick_5\">\r\n     <g id=\"line2d_5\">\r\n      <g>\r\n       <use style=\"stroke:#000000;stroke-width:0.8;\" x=\"306.316477\" xlink:href=\"#mee3315dc3e\" y=\"228.439219\"/>\r\n      </g>\r\n     </g>\r\n     <g id=\"text_5\">\r\n      <!-- 400 -->\r\n      <g transform=\"translate(296.772727 243.037656)scale(0.1 -0.1)\">\r\n       <defs>\r\n        <path d=\"M 37.796875 64.3125 \r\nL 12.890625 25.390625 \r\nL 37.796875 25.390625 \r\nz\r\nM 35.203125 72.90625 \r\nL 47.609375 72.90625 \r\nL 47.609375 25.390625 \r\nL 58.015625 25.390625 \r\nL 58.015625 17.1875 \r\nL 47.609375 17.1875 \r\nL 47.609375 0 \r\nL 37.796875 0 \r\nL 37.796875 17.1875 \r\nL 4.890625 17.1875 \r\nL 4.890625 26.703125 \r\nz\r\n\" id=\"DejaVuSans-52\"/>\r\n       </defs>\r\n       <use xlink:href=\"#DejaVuSans-52\"/>\r\n       <use x=\"63.623047\" xlink:href=\"#DejaVuSans-48\"/>\r\n       <use x=\"127.246094\" xlink:href=\"#DejaVuSans-48\"/>\r\n      </g>\r\n     </g>\r\n    </g>\r\n    <g id=\"xtick_6\">\r\n     <g id=\"line2d_6\">\r\n      <g>\r\n       <use style=\"stroke:#000000;stroke-width:0.8;\" x=\"366.706088\" xlink:href=\"#mee3315dc3e\" y=\"228.439219\"/>\r\n      </g>\r\n     </g>\r\n     <g id=\"text_6\">\r\n      <!-- 500 -->\r\n      <g transform=\"translate(357.162338 243.037656)scale(0.1 -0.1)\">\r\n       <defs>\r\n        <path d=\"M 10.796875 72.90625 \r\nL 49.515625 72.90625 \r\nL 49.515625 64.59375 \r\nL 19.828125 64.59375 \r\nL 19.828125 46.734375 \r\nQ 21.96875 47.46875 24.109375 47.828125 \r\nQ 26.265625 48.1875 28.421875 48.1875 \r\nQ 40.625 48.1875 47.75 41.5 \r\nQ 54.890625 34.8125 54.890625 23.390625 \r\nQ 54.890625 11.625 47.5625 5.09375 \r\nQ 40.234375 -1.421875 26.90625 -1.421875 \r\nQ 22.3125 -1.421875 17.546875 -0.640625 \r\nQ 12.796875 0.140625 7.71875 1.703125 \r\nL 7.71875 11.625 \r\nQ 12.109375 9.234375 16.796875 8.0625 \r\nQ 21.484375 6.890625 26.703125 6.890625 \r\nQ 35.15625 6.890625 40.078125 11.328125 \r\nQ 45.015625 15.765625 45.015625 23.390625 \r\nQ 45.015625 31 40.078125 35.4375 \r\nQ 35.15625 39.890625 26.703125 39.890625 \r\nQ 22.75 39.890625 18.8125 39.015625 \r\nQ 14.890625 38.140625 10.796875 36.28125 \r\nz\r\n\" id=\"DejaVuSans-53\"/>\r\n       </defs>\r\n       <use xlink:href=\"#DejaVuSans-53\"/>\r\n       <use x=\"63.623047\" xlink:href=\"#DejaVuSans-48\"/>\r\n       <use x=\"127.246094\" xlink:href=\"#DejaVuSans-48\"/>\r\n      </g>\r\n     </g>\r\n    </g>\r\n    <g id=\"text_7\">\r\n     <!-- Model Complexity (n_estimators) -->\r\n     <g transform=\"translate(134.896094 256.715781)scale(0.1 -0.1)\">\r\n      <defs>\r\n       <path d=\"M 9.8125 72.90625 \r\nL 24.515625 72.90625 \r\nL 43.109375 23.296875 \r\nL 61.8125 72.90625 \r\nL 76.515625 72.90625 \r\nL 76.515625 0 \r\nL 66.890625 0 \r\nL 66.890625 64.015625 \r\nL 48.09375 14.015625 \r\nL 38.1875 14.015625 \r\nL 19.390625 64.015625 \r\nL 19.390625 0 \r\nL 9.8125 0 \r\nz\r\n\" id=\"DejaVuSans-77\"/>\r\n       <path d=\"M 30.609375 48.390625 \r\nQ 23.390625 48.390625 19.1875 42.75 \r\nQ 14.984375 37.109375 14.984375 27.296875 \r\nQ 14.984375 17.484375 19.15625 11.84375 \r\nQ 23.34375 6.203125 30.609375 6.203125 \r\nQ 37.796875 6.203125 41.984375 11.859375 \r\nQ 46.1875 17.53125 46.1875 27.296875 \r\nQ 46.1875 37.015625 41.984375 42.703125 \r\nQ 37.796875 48.390625 30.609375 48.390625 \r\nz\r\nM 30.609375 56 \r\nQ 42.328125 56 49.015625 48.375 \r\nQ 55.71875 40.765625 55.71875 27.296875 \r\nQ 55.71875 13.875 49.015625 6.21875 \r\nQ 42.328125 -1.421875 30.609375 -1.421875 \r\nQ 18.84375 -1.421875 12.171875 6.21875 \r\nQ 5.515625 13.875 5.515625 27.296875 \r\nQ 5.515625 40.765625 12.171875 48.375 \r\nQ 18.84375 56 30.609375 56 \r\nz\r\n\" id=\"DejaVuSans-111\"/>\r\n       <path d=\"M 45.40625 46.390625 \r\nL 45.40625 75.984375 \r\nL 54.390625 75.984375 \r\nL 54.390625 0 \r\nL 45.40625 0 \r\nL 45.40625 8.203125 \r\nQ 42.578125 3.328125 38.25 0.953125 \r\nQ 33.9375 -1.421875 27.875 -1.421875 \r\nQ 17.96875 -1.421875 11.734375 6.484375 \r\nQ 5.515625 14.40625 5.515625 27.296875 \r\nQ 5.515625 40.1875 11.734375 48.09375 \r\nQ 17.96875 56 27.875 56 \r\nQ 33.9375 56 38.25 53.625 \r\nQ 42.578125 51.265625 45.40625 46.390625 \r\nz\r\nM 14.796875 27.296875 \r\nQ 14.796875 17.390625 18.875 11.75 \r\nQ 22.953125 6.109375 30.078125 6.109375 \r\nQ 37.203125 6.109375 41.296875 11.75 \r\nQ 45.40625 17.390625 45.40625 27.296875 \r\nQ 45.40625 37.203125 41.296875 42.84375 \r\nQ 37.203125 48.484375 30.078125 48.484375 \r\nQ 22.953125 48.484375 18.875 42.84375 \r\nQ 14.796875 37.203125 14.796875 27.296875 \r\nz\r\n\" id=\"DejaVuSans-100\"/>\r\n       <path d=\"M 56.203125 29.59375 \r\nL 56.203125 25.203125 \r\nL 14.890625 25.203125 \r\nQ 15.484375 15.921875 20.484375 11.0625 \r\nQ 25.484375 6.203125 34.421875 6.203125 \r\nQ 39.59375 6.203125 44.453125 7.46875 \r\nQ 49.3125 8.734375 54.109375 11.28125 \r\nL 54.109375 2.78125 \r\nQ 49.265625 0.734375 44.1875 -0.34375 \r\nQ 39.109375 -1.421875 33.890625 -1.421875 \r\nQ 20.796875 -1.421875 13.15625 6.1875 \r\nQ 5.515625 13.8125 5.515625 26.8125 \r\nQ 5.515625 40.234375 12.765625 48.109375 \r\nQ 20.015625 56 32.328125 56 \r\nQ 43.359375 56 49.78125 48.890625 \r\nQ 56.203125 41.796875 56.203125 29.59375 \r\nz\r\nM 47.21875 32.234375 \r\nQ 47.125 39.59375 43.09375 43.984375 \r\nQ 39.0625 48.390625 32.421875 48.390625 \r\nQ 24.90625 48.390625 20.390625 44.140625 \r\nQ 15.875 39.890625 15.1875 32.171875 \r\nz\r\n\" id=\"DejaVuSans-101\"/>\r\n       <path d=\"M 9.421875 75.984375 \r\nL 18.40625 75.984375 \r\nL 18.40625 0 \r\nL 9.421875 0 \r\nz\r\n\" id=\"DejaVuSans-108\"/>\r\n       <path id=\"DejaVuSans-32\"/>\r\n       <path d=\"M 64.40625 67.28125 \r\nL 64.40625 56.890625 \r\nQ 59.421875 61.53125 53.78125 63.8125 \r\nQ 48.140625 66.109375 41.796875 66.109375 \r\nQ 29.296875 66.109375 22.65625 58.46875 \r\nQ 16.015625 50.828125 16.015625 36.375 \r\nQ 16.015625 21.96875 22.65625 14.328125 \r\nQ 29.296875 6.6875 41.796875 6.6875 \r\nQ 48.140625 6.6875 53.78125 8.984375 \r\nQ 59.421875 11.28125 64.40625 15.921875 \r\nL 64.40625 5.609375 \r\nQ 59.234375 2.09375 53.4375 0.328125 \r\nQ 47.65625 -1.421875 41.21875 -1.421875 \r\nQ 24.65625 -1.421875 15.125 8.703125 \r\nQ 5.609375 18.84375 5.609375 36.375 \r\nQ 5.609375 53.953125 15.125 64.078125 \r\nQ 24.65625 74.21875 41.21875 74.21875 \r\nQ 47.75 74.21875 53.53125 72.484375 \r\nQ 59.328125 70.75 64.40625 67.28125 \r\nz\r\n\" id=\"DejaVuSans-67\"/>\r\n       <path d=\"M 52 44.1875 \r\nQ 55.375 50.25 60.0625 53.125 \r\nQ 64.75 56 71.09375 56 \r\nQ 79.640625 56 84.28125 50.015625 \r\nQ 88.921875 44.046875 88.921875 33.015625 \r\nL 88.921875 0 \r\nL 79.890625 0 \r\nL 79.890625 32.71875 \r\nQ 79.890625 40.578125 77.09375 44.375 \r\nQ 74.3125 48.1875 68.609375 48.1875 \r\nQ 61.625 48.1875 57.5625 43.546875 \r\nQ 53.515625 38.921875 53.515625 30.90625 \r\nL 53.515625 0 \r\nL 44.484375 0 \r\nL 44.484375 32.71875 \r\nQ 44.484375 40.625 41.703125 44.40625 \r\nQ 38.921875 48.1875 33.109375 48.1875 \r\nQ 26.21875 48.1875 22.15625 43.53125 \r\nQ 18.109375 38.875 18.109375 30.90625 \r\nL 18.109375 0 \r\nL 9.078125 0 \r\nL 9.078125 54.6875 \r\nL 18.109375 54.6875 \r\nL 18.109375 46.1875 \r\nQ 21.1875 51.21875 25.484375 53.609375 \r\nQ 29.78125 56 35.6875 56 \r\nQ 41.65625 56 45.828125 52.96875 \r\nQ 50 49.953125 52 44.1875 \r\nz\r\n\" id=\"DejaVuSans-109\"/>\r\n       <path d=\"M 18.109375 8.203125 \r\nL 18.109375 -20.796875 \r\nL 9.078125 -20.796875 \r\nL 9.078125 54.6875 \r\nL 18.109375 54.6875 \r\nL 18.109375 46.390625 \r\nQ 20.953125 51.265625 25.265625 53.625 \r\nQ 29.59375 56 35.59375 56 \r\nQ 45.5625 56 51.78125 48.09375 \r\nQ 58.015625 40.1875 58.015625 27.296875 \r\nQ 58.015625 14.40625 51.78125 6.484375 \r\nQ 45.5625 -1.421875 35.59375 -1.421875 \r\nQ 29.59375 -1.421875 25.265625 0.953125 \r\nQ 20.953125 3.328125 18.109375 8.203125 \r\nz\r\nM 48.6875 27.296875 \r\nQ 48.6875 37.203125 44.609375 42.84375 \r\nQ 40.53125 48.484375 33.40625 48.484375 \r\nQ 26.265625 48.484375 22.1875 42.84375 \r\nQ 18.109375 37.203125 18.109375 27.296875 \r\nQ 18.109375 17.390625 22.1875 11.75 \r\nQ 26.265625 6.109375 33.40625 6.109375 \r\nQ 40.53125 6.109375 44.609375 11.75 \r\nQ 48.6875 17.390625 48.6875 27.296875 \r\nz\r\n\" id=\"DejaVuSans-112\"/>\r\n       <path d=\"M 54.890625 54.6875 \r\nL 35.109375 28.078125 \r\nL 55.90625 0 \r\nL 45.3125 0 \r\nL 29.390625 21.484375 \r\nL 13.484375 0 \r\nL 2.875 0 \r\nL 24.125 28.609375 \r\nL 4.6875 54.6875 \r\nL 15.28125 54.6875 \r\nL 29.78125 35.203125 \r\nL 44.28125 54.6875 \r\nz\r\n\" id=\"DejaVuSans-120\"/>\r\n       <path d=\"M 9.421875 54.6875 \r\nL 18.40625 54.6875 \r\nL 18.40625 0 \r\nL 9.421875 0 \r\nz\r\nM 9.421875 75.984375 \r\nL 18.40625 75.984375 \r\nL 18.40625 64.59375 \r\nL 9.421875 64.59375 \r\nz\r\n\" id=\"DejaVuSans-105\"/>\r\n       <path d=\"M 18.3125 70.21875 \r\nL 18.3125 54.6875 \r\nL 36.8125 54.6875 \r\nL 36.8125 47.703125 \r\nL 18.3125 47.703125 \r\nL 18.3125 18.015625 \r\nQ 18.3125 11.328125 20.140625 9.421875 \r\nQ 21.96875 7.515625 27.59375 7.515625 \r\nL 36.8125 7.515625 \r\nL 36.8125 0 \r\nL 27.59375 0 \r\nQ 17.1875 0 13.234375 3.875 \r\nQ 9.28125 7.765625 9.28125 18.015625 \r\nL 9.28125 47.703125 \r\nL 2.6875 47.703125 \r\nL 2.6875 54.6875 \r\nL 9.28125 54.6875 \r\nL 9.28125 70.21875 \r\nz\r\n\" id=\"DejaVuSans-116\"/>\r\n       <path d=\"M 32.171875 -5.078125 \r\nQ 28.375 -14.84375 24.75 -17.8125 \r\nQ 21.140625 -20.796875 15.09375 -20.796875 \r\nL 7.90625 -20.796875 \r\nL 7.90625 -13.28125 \r\nL 13.1875 -13.28125 \r\nQ 16.890625 -13.28125 18.9375 -11.515625 \r\nQ 21 -9.765625 23.484375 -3.21875 \r\nL 25.09375 0.875 \r\nL 2.984375 54.6875 \r\nL 12.5 54.6875 \r\nL 29.59375 11.921875 \r\nL 46.6875 54.6875 \r\nL 56.203125 54.6875 \r\nz\r\n\" id=\"DejaVuSans-121\"/>\r\n       <path d=\"M 31 75.875 \r\nQ 24.46875 64.65625 21.28125 53.65625 \r\nQ 18.109375 42.671875 18.109375 31.390625 \r\nQ 18.109375 20.125 21.3125 9.0625 \r\nQ 24.515625 -2 31 -13.1875 \r\nL 23.1875 -13.1875 \r\nQ 15.875 -1.703125 12.234375 9.375 \r\nQ 8.59375 20.453125 8.59375 31.390625 \r\nQ 8.59375 42.28125 12.203125 53.3125 \r\nQ 15.828125 64.359375 23.1875 75.875 \r\nz\r\n\" id=\"DejaVuSans-40\"/>\r\n       <path d=\"M 54.890625 33.015625 \r\nL 54.890625 0 \r\nL 45.90625 0 \r\nL 45.90625 32.71875 \r\nQ 45.90625 40.484375 42.875 44.328125 \r\nQ 39.84375 48.1875 33.796875 48.1875 \r\nQ 26.515625 48.1875 22.3125 43.546875 \r\nQ 18.109375 38.921875 18.109375 30.90625 \r\nL 18.109375 0 \r\nL 9.078125 0 \r\nL 9.078125 54.6875 \r\nL 18.109375 54.6875 \r\nL 18.109375 46.1875 \r\nQ 21.34375 51.125 25.703125 53.5625 \r\nQ 30.078125 56 35.796875 56 \r\nQ 45.21875 56 50.046875 50.171875 \r\nQ 54.890625 44.34375 54.890625 33.015625 \r\nz\r\n\" id=\"DejaVuSans-110\"/>\r\n       <path d=\"M 50.984375 -16.609375 \r\nL 50.984375 -23.578125 \r\nL -0.984375 -23.578125 \r\nL -0.984375 -16.609375 \r\nz\r\n\" id=\"DejaVuSans-95\"/>\r\n       <path d=\"M 44.28125 53.078125 \r\nL 44.28125 44.578125 \r\nQ 40.484375 46.53125 36.375 47.5 \r\nQ 32.28125 48.484375 27.875 48.484375 \r\nQ 21.1875 48.484375 17.84375 46.4375 \r\nQ 14.5 44.390625 14.5 40.28125 \r\nQ 14.5 37.15625 16.890625 35.375 \r\nQ 19.28125 33.59375 26.515625 31.984375 \r\nL 29.59375 31.296875 \r\nQ 39.15625 29.25 43.1875 25.515625 \r\nQ 47.21875 21.78125 47.21875 15.09375 \r\nQ 47.21875 7.46875 41.1875 3.015625 \r\nQ 35.15625 -1.421875 24.609375 -1.421875 \r\nQ 20.21875 -1.421875 15.453125 -0.5625 \r\nQ 10.6875 0.296875 5.421875 2 \r\nL 5.421875 11.28125 \r\nQ 10.40625 8.6875 15.234375 7.390625 \r\nQ 20.0625 6.109375 24.8125 6.109375 \r\nQ 31.15625 6.109375 34.5625 8.28125 \r\nQ 37.984375 10.453125 37.984375 14.40625 \r\nQ 37.984375 18.0625 35.515625 20.015625 \r\nQ 33.0625 21.96875 24.703125 23.78125 \r\nL 21.578125 24.515625 \r\nQ 13.234375 26.265625 9.515625 29.90625 \r\nQ 5.8125 33.546875 5.8125 39.890625 \r\nQ 5.8125 47.609375 11.28125 51.796875 \r\nQ 16.75 56 26.8125 56 \r\nQ 31.78125 56 36.171875 55.265625 \r\nQ 40.578125 54.546875 44.28125 53.078125 \r\nz\r\n\" id=\"DejaVuSans-115\"/>\r\n       <path d=\"M 34.28125 27.484375 \r\nQ 23.390625 27.484375 19.1875 25 \r\nQ 14.984375 22.515625 14.984375 16.5 \r\nQ 14.984375 11.71875 18.140625 8.90625 \r\nQ 21.296875 6.109375 26.703125 6.109375 \r\nQ 34.1875 6.109375 38.703125 11.40625 \r\nQ 43.21875 16.703125 43.21875 25.484375 \r\nL 43.21875 27.484375 \r\nz\r\nM 52.203125 31.203125 \r\nL 52.203125 0 \r\nL 43.21875 0 \r\nL 43.21875 8.296875 \r\nQ 40.140625 3.328125 35.546875 0.953125 \r\nQ 30.953125 -1.421875 24.3125 -1.421875 \r\nQ 15.921875 -1.421875 10.953125 3.296875 \r\nQ 6 8.015625 6 15.921875 \r\nQ 6 25.140625 12.171875 29.828125 \r\nQ 18.359375 34.515625 30.609375 34.515625 \r\nL 43.21875 34.515625 \r\nL 43.21875 35.40625 \r\nQ 43.21875 41.609375 39.140625 45 \r\nQ 35.0625 48.390625 27.6875 48.390625 \r\nQ 23 48.390625 18.546875 47.265625 \r\nQ 14.109375 46.140625 10.015625 43.890625 \r\nL 10.015625 52.203125 \r\nQ 14.9375 54.109375 19.578125 55.046875 \r\nQ 24.21875 56 28.609375 56 \r\nQ 40.484375 56 46.34375 49.84375 \r\nQ 52.203125 43.703125 52.203125 31.203125 \r\nz\r\n\" id=\"DejaVuSans-97\"/>\r\n       <path d=\"M 41.109375 46.296875 \r\nQ 39.59375 47.171875 37.8125 47.578125 \r\nQ 36.03125 48 33.890625 48 \r\nQ 26.265625 48 22.1875 43.046875 \r\nQ 18.109375 38.09375 18.109375 28.8125 \r\nL 18.109375 0 \r\nL 9.078125 0 \r\nL 9.078125 54.6875 \r\nL 18.109375 54.6875 \r\nL 18.109375 46.1875 \r\nQ 20.953125 51.171875 25.484375 53.578125 \r\nQ 30.03125 56 36.53125 56 \r\nQ 37.453125 56 38.578125 55.875 \r\nQ 39.703125 55.765625 41.0625 55.515625 \r\nz\r\n\" id=\"DejaVuSans-114\"/>\r\n       <path d=\"M 8.015625 75.875 \r\nL 15.828125 75.875 \r\nQ 23.140625 64.359375 26.78125 53.3125 \r\nQ 30.421875 42.28125 30.421875 31.390625 \r\nQ 30.421875 20.453125 26.78125 9.375 \r\nQ 23.140625 -1.703125 15.828125 -13.1875 \r\nL 8.015625 -13.1875 \r\nQ 14.5 -2 17.703125 9.0625 \r\nQ 20.90625 20.125 20.90625 31.390625 \r\nQ 20.90625 42.671875 17.703125 53.65625 \r\nQ 14.5 64.65625 8.015625 75.875 \r\nz\r\n\" id=\"DejaVuSans-41\"/>\r\n      </defs>\r\n      <use xlink:href=\"#DejaVuSans-77\"/>\r\n      <use x=\"86.279297\" xlink:href=\"#DejaVuSans-111\"/>\r\n      <use x=\"147.460938\" xlink:href=\"#DejaVuSans-100\"/>\r\n      <use x=\"210.9375\" xlink:href=\"#DejaVuSans-101\"/>\r\n      <use x=\"272.460938\" xlink:href=\"#DejaVuSans-108\"/>\r\n      <use x=\"300.244141\" xlink:href=\"#DejaVuSans-32\"/>\r\n      <use x=\"332.03125\" xlink:href=\"#DejaVuSans-67\"/>\r\n      <use x=\"401.855469\" xlink:href=\"#DejaVuSans-111\"/>\r\n      <use x=\"463.037109\" xlink:href=\"#DejaVuSans-109\"/>\r\n      <use x=\"560.449219\" xlink:href=\"#DejaVuSans-112\"/>\r\n      <use x=\"623.925781\" xlink:href=\"#DejaVuSans-108\"/>\r\n      <use x=\"651.708984\" xlink:href=\"#DejaVuSans-101\"/>\r\n      <use x=\"711.482422\" xlink:href=\"#DejaVuSans-120\"/>\r\n      <use x=\"770.662109\" xlink:href=\"#DejaVuSans-105\"/>\r\n      <use x=\"798.445312\" xlink:href=\"#DejaVuSans-116\"/>\r\n      <use x=\"837.654297\" xlink:href=\"#DejaVuSans-121\"/>\r\n      <use x=\"896.833984\" xlink:href=\"#DejaVuSans-32\"/>\r\n      <use x=\"928.621094\" xlink:href=\"#DejaVuSans-40\"/>\r\n      <use x=\"967.634766\" xlink:href=\"#DejaVuSans-110\"/>\r\n      <use x=\"1031.013672\" xlink:href=\"#DejaVuSans-95\"/>\r\n      <use x=\"1081.013672\" xlink:href=\"#DejaVuSans-101\"/>\r\n      <use x=\"1142.537109\" xlink:href=\"#DejaVuSans-115\"/>\r\n      <use x=\"1194.636719\" xlink:href=\"#DejaVuSans-116\"/>\r\n      <use x=\"1233.845703\" xlink:href=\"#DejaVuSans-105\"/>\r\n      <use x=\"1261.628906\" xlink:href=\"#DejaVuSans-109\"/>\r\n      <use x=\"1359.041016\" xlink:href=\"#DejaVuSans-97\"/>\r\n      <use x=\"1420.320312\" xlink:href=\"#DejaVuSans-116\"/>\r\n      <use x=\"1459.529297\" xlink:href=\"#DejaVuSans-111\"/>\r\n      <use x=\"1520.710938\" xlink:href=\"#DejaVuSans-114\"/>\r\n      <use x=\"1561.824219\" xlink:href=\"#DejaVuSans-115\"/>\r\n      <use x=\"1613.923828\" xlink:href=\"#DejaVuSans-41\"/>\r\n     </g>\r\n    </g>\r\n   </g>\r\n   <g id=\"matplotlib.axis_2\">\r\n    <g id=\"ytick_1\">\r\n     <g id=\"line2d_7\">\r\n      <defs>\r\n       <path d=\"M 0 0 \r\nL -3.5 0 \r\n\" id=\"m474121a595\" style=\"stroke:#000000;stroke-width:0.8;\"/>\r\n      </defs>\r\n      <g>\r\n       <use style=\"stroke:#000000;stroke-width:0.8;\" x=\"50.14375\" xlink:href=\"#m474121a595\" y=\"228.439219\"/>\r\n      </g>\r\n     </g>\r\n     <g id=\"text_8\">\r\n      <!-- 0.00 -->\r\n      <g transform=\"translate(20.878125 232.238438)scale(0.1 -0.1)\">\r\n       <defs>\r\n        <path d=\"M 10.6875 12.40625 \r\nL 21 12.40625 \r\nL 21 0 \r\nL 10.6875 0 \r\nz\r\n\" id=\"DejaVuSans-46\"/>\r\n       </defs>\r\n       <use xlink:href=\"#DejaVuSans-48\"/>\r\n       <use x=\"63.623047\" xlink:href=\"#DejaVuSans-46\"/>\r\n       <use x=\"95.410156\" xlink:href=\"#DejaVuSans-48\"/>\r\n       <use x=\"159.033203\" xlink:href=\"#DejaVuSans-48\"/>\r\n      </g>\r\n     </g>\r\n    </g>\r\n    <g id=\"ytick_2\">\r\n     <g id=\"line2d_8\">\r\n      <g>\r\n       <use style=\"stroke:#000000;stroke-width:0.8;\" x=\"50.14375\" xlink:href=\"#m474121a595\" y=\"201.259219\"/>\r\n      </g>\r\n     </g>\r\n     <g id=\"text_9\">\r\n      <!-- 0.01 -->\r\n      <g transform=\"translate(20.878125 205.058438)scale(0.1 -0.1)\">\r\n       <use xlink:href=\"#DejaVuSans-48\"/>\r\n       <use x=\"63.623047\" xlink:href=\"#DejaVuSans-46\"/>\r\n       <use x=\"95.410156\" xlink:href=\"#DejaVuSans-48\"/>\r\n       <use x=\"159.033203\" xlink:href=\"#DejaVuSans-49\"/>\r\n      </g>\r\n     </g>\r\n    </g>\r\n    <g id=\"ytick_3\">\r\n     <g id=\"line2d_9\">\r\n      <g>\r\n       <use style=\"stroke:#000000;stroke-width:0.8;\" x=\"50.14375\" xlink:href=\"#m474121a595\" y=\"174.079219\"/>\r\n      </g>\r\n     </g>\r\n     <g id=\"text_10\">\r\n      <!-- 0.02 -->\r\n      <g transform=\"translate(20.878125 177.878438)scale(0.1 -0.1)\">\r\n       <use xlink:href=\"#DejaVuSans-48\"/>\r\n       <use x=\"63.623047\" xlink:href=\"#DejaVuSans-46\"/>\r\n       <use x=\"95.410156\" xlink:href=\"#DejaVuSans-48\"/>\r\n       <use x=\"159.033203\" xlink:href=\"#DejaVuSans-50\"/>\r\n      </g>\r\n     </g>\r\n    </g>\r\n    <g id=\"ytick_4\">\r\n     <g id=\"line2d_10\">\r\n      <g>\r\n       <use style=\"stroke:#000000;stroke-width:0.8;\" x=\"50.14375\" xlink:href=\"#m474121a595\" y=\"146.899219\"/>\r\n      </g>\r\n     </g>\r\n     <g id=\"text_11\">\r\n      <!-- 0.03 -->\r\n      <g transform=\"translate(20.878125 150.698438)scale(0.1 -0.1)\">\r\n       <use xlink:href=\"#DejaVuSans-48\"/>\r\n       <use x=\"63.623047\" xlink:href=\"#DejaVuSans-46\"/>\r\n       <use x=\"95.410156\" xlink:href=\"#DejaVuSans-48\"/>\r\n       <use x=\"159.033203\" xlink:href=\"#DejaVuSans-51\"/>\r\n      </g>\r\n     </g>\r\n    </g>\r\n    <g id=\"ytick_5\">\r\n     <g id=\"line2d_11\">\r\n      <g>\r\n       <use style=\"stroke:#000000;stroke-width:0.8;\" x=\"50.14375\" xlink:href=\"#m474121a595\" y=\"119.719219\"/>\r\n      </g>\r\n     </g>\r\n     <g id=\"text_12\">\r\n      <!-- 0.04 -->\r\n      <g transform=\"translate(20.878125 123.518438)scale(0.1 -0.1)\">\r\n       <use xlink:href=\"#DejaVuSans-48\"/>\r\n       <use x=\"63.623047\" xlink:href=\"#DejaVuSans-46\"/>\r\n       <use x=\"95.410156\" xlink:href=\"#DejaVuSans-48\"/>\r\n       <use x=\"159.033203\" xlink:href=\"#DejaVuSans-52\"/>\r\n      </g>\r\n     </g>\r\n    </g>\r\n    <g id=\"ytick_6\">\r\n     <g id=\"line2d_12\">\r\n      <g>\r\n       <use style=\"stroke:#000000;stroke-width:0.8;\" x=\"50.14375\" xlink:href=\"#m474121a595\" y=\"92.539219\"/>\r\n      </g>\r\n     </g>\r\n     <g id=\"text_13\">\r\n      <!-- 0.05 -->\r\n      <g transform=\"translate(20.878125 96.338438)scale(0.1 -0.1)\">\r\n       <use xlink:href=\"#DejaVuSans-48\"/>\r\n       <use x=\"63.623047\" xlink:href=\"#DejaVuSans-46\"/>\r\n       <use x=\"95.410156\" xlink:href=\"#DejaVuSans-48\"/>\r\n       <use x=\"159.033203\" xlink:href=\"#DejaVuSans-53\"/>\r\n      </g>\r\n     </g>\r\n    </g>\r\n    <g id=\"ytick_7\">\r\n     <g id=\"line2d_13\">\r\n      <g>\r\n       <use style=\"stroke:#000000;stroke-width:0.8;\" x=\"50.14375\" xlink:href=\"#m474121a595\" y=\"65.359219\"/>\r\n      </g>\r\n     </g>\r\n     <g id=\"text_14\">\r\n      <!-- 0.06 -->\r\n      <g transform=\"translate(20.878125 69.158438)scale(0.1 -0.1)\">\r\n       <defs>\r\n        <path d=\"M 33.015625 40.375 \r\nQ 26.375 40.375 22.484375 35.828125 \r\nQ 18.609375 31.296875 18.609375 23.390625 \r\nQ 18.609375 15.53125 22.484375 10.953125 \r\nQ 26.375 6.390625 33.015625 6.390625 \r\nQ 39.65625 6.390625 43.53125 10.953125 \r\nQ 47.40625 15.53125 47.40625 23.390625 \r\nQ 47.40625 31.296875 43.53125 35.828125 \r\nQ 39.65625 40.375 33.015625 40.375 \r\nz\r\nM 52.59375 71.296875 \r\nL 52.59375 62.3125 \r\nQ 48.875 64.0625 45.09375 64.984375 \r\nQ 41.3125 65.921875 37.59375 65.921875 \r\nQ 27.828125 65.921875 22.671875 59.328125 \r\nQ 17.53125 52.734375 16.796875 39.40625 \r\nQ 19.671875 43.65625 24.015625 45.921875 \r\nQ 28.375 48.1875 33.59375 48.1875 \r\nQ 44.578125 48.1875 50.953125 41.515625 \r\nQ 57.328125 34.859375 57.328125 23.390625 \r\nQ 57.328125 12.15625 50.6875 5.359375 \r\nQ 44.046875 -1.421875 33.015625 -1.421875 \r\nQ 20.359375 -1.421875 13.671875 8.265625 \r\nQ 6.984375 17.96875 6.984375 36.375 \r\nQ 6.984375 53.65625 15.1875 63.9375 \r\nQ 23.390625 74.21875 37.203125 74.21875 \r\nQ 40.921875 74.21875 44.703125 73.484375 \r\nQ 48.484375 72.75 52.59375 71.296875 \r\nz\r\n\" id=\"DejaVuSans-54\"/>\r\n       </defs>\r\n       <use xlink:href=\"#DejaVuSans-48\"/>\r\n       <use x=\"63.623047\" xlink:href=\"#DejaVuSans-46\"/>\r\n       <use x=\"95.410156\" xlink:href=\"#DejaVuSans-48\"/>\r\n       <use x=\"159.033203\" xlink:href=\"#DejaVuSans-54\"/>\r\n      </g>\r\n     </g>\r\n    </g>\r\n    <g id=\"ytick_8\">\r\n     <g id=\"line2d_14\">\r\n      <g>\r\n       <use style=\"stroke:#000000;stroke-width:0.8;\" x=\"50.14375\" xlink:href=\"#m474121a595\" y=\"38.179219\"/>\r\n      </g>\r\n     </g>\r\n     <g id=\"text_15\">\r\n      <!-- 0.07 -->\r\n      <g transform=\"translate(20.878125 41.978438)scale(0.1 -0.1)\">\r\n       <defs>\r\n        <path d=\"M 8.203125 72.90625 \r\nL 55.078125 72.90625 \r\nL 55.078125 68.703125 \r\nL 28.609375 0 \r\nL 18.3125 0 \r\nL 43.21875 64.59375 \r\nL 8.203125 64.59375 \r\nz\r\n\" id=\"DejaVuSans-55\"/>\r\n       </defs>\r\n       <use xlink:href=\"#DejaVuSans-48\"/>\r\n       <use x=\"63.623047\" xlink:href=\"#DejaVuSans-46\"/>\r\n       <use x=\"95.410156\" xlink:href=\"#DejaVuSans-48\"/>\r\n       <use x=\"159.033203\" xlink:href=\"#DejaVuSans-55\"/>\r\n      </g>\r\n     </g>\r\n    </g>\r\n    <g id=\"ytick_9\">\r\n     <g id=\"line2d_15\">\r\n      <g>\r\n       <use style=\"stroke:#000000;stroke-width:0.8;\" x=\"50.14375\" xlink:href=\"#m474121a595\" y=\"10.999219\"/>\r\n      </g>\r\n     </g>\r\n     <g id=\"text_16\">\r\n      <!-- 0.08 -->\r\n      <g transform=\"translate(20.878125 14.798438)scale(0.1 -0.1)\">\r\n       <defs>\r\n        <path d=\"M 31.78125 34.625 \r\nQ 24.75 34.625 20.71875 30.859375 \r\nQ 16.703125 27.09375 16.703125 20.515625 \r\nQ 16.703125 13.921875 20.71875 10.15625 \r\nQ 24.75 6.390625 31.78125 6.390625 \r\nQ 38.8125 6.390625 42.859375 10.171875 \r\nQ 46.921875 13.96875 46.921875 20.515625 \r\nQ 46.921875 27.09375 42.890625 30.859375 \r\nQ 38.875 34.625 31.78125 34.625 \r\nz\r\nM 21.921875 38.8125 \r\nQ 15.578125 40.375 12.03125 44.71875 \r\nQ 8.5 49.078125 8.5 55.328125 \r\nQ 8.5 64.0625 14.71875 69.140625 \r\nQ 20.953125 74.21875 31.78125 74.21875 \r\nQ 42.671875 74.21875 48.875 69.140625 \r\nQ 55.078125 64.0625 55.078125 55.328125 \r\nQ 55.078125 49.078125 51.53125 44.71875 \r\nQ 48 40.375 41.703125 38.8125 \r\nQ 48.828125 37.15625 52.796875 32.3125 \r\nQ 56.78125 27.484375 56.78125 20.515625 \r\nQ 56.78125 9.90625 50.3125 4.234375 \r\nQ 43.84375 -1.421875 31.78125 -1.421875 \r\nQ 19.734375 -1.421875 13.25 4.234375 \r\nQ 6.78125 9.90625 6.78125 20.515625 \r\nQ 6.78125 27.484375 10.78125 32.3125 \r\nQ 14.796875 37.15625 21.921875 38.8125 \r\nz\r\nM 18.3125 54.390625 \r\nQ 18.3125 48.734375 21.84375 45.5625 \r\nQ 25.390625 42.390625 31.78125 42.390625 \r\nQ 38.140625 42.390625 41.71875 45.5625 \r\nQ 45.3125 48.734375 45.3125 54.390625 \r\nQ 45.3125 60.0625 41.71875 63.234375 \r\nQ 38.140625 66.40625 31.78125 66.40625 \r\nQ 25.390625 66.40625 21.84375 63.234375 \r\nQ 18.3125 60.0625 18.3125 54.390625 \r\nz\r\n\" id=\"DejaVuSans-56\"/>\r\n       </defs>\r\n       <use xlink:href=\"#DejaVuSans-48\"/>\r\n       <use x=\"63.623047\" xlink:href=\"#DejaVuSans-46\"/>\r\n       <use x=\"95.410156\" xlink:href=\"#DejaVuSans-48\"/>\r\n       <use x=\"159.033203\" xlink:href=\"#DejaVuSans-56\"/>\r\n      </g>\r\n     </g>\r\n    </g>\r\n    <g id=\"text_17\">\r\n     <!-- Classification Error -->\r\n     <g transform=\"translate(14.798438 166.57625)rotate(-90)scale(0.1 -0.1)\">\r\n      <defs>\r\n       <path d=\"M 37.109375 75.984375 \r\nL 37.109375 68.5 \r\nL 28.515625 68.5 \r\nQ 23.6875 68.5 21.796875 66.546875 \r\nQ 19.921875 64.59375 19.921875 59.515625 \r\nL 19.921875 54.6875 \r\nL 34.71875 54.6875 \r\nL 34.71875 47.703125 \r\nL 19.921875 47.703125 \r\nL 19.921875 0 \r\nL 10.890625 0 \r\nL 10.890625 47.703125 \r\nL 2.296875 47.703125 \r\nL 2.296875 54.6875 \r\nL 10.890625 54.6875 \r\nL 10.890625 58.5 \r\nQ 10.890625 67.625 15.140625 71.796875 \r\nQ 19.390625 75.984375 28.609375 75.984375 \r\nz\r\n\" id=\"DejaVuSans-102\"/>\r\n       <path d=\"M 48.78125 52.59375 \r\nL 48.78125 44.1875 \r\nQ 44.96875 46.296875 41.140625 47.34375 \r\nQ 37.3125 48.390625 33.40625 48.390625 \r\nQ 24.65625 48.390625 19.8125 42.84375 \r\nQ 14.984375 37.3125 14.984375 27.296875 \r\nQ 14.984375 17.28125 19.8125 11.734375 \r\nQ 24.65625 6.203125 33.40625 6.203125 \r\nQ 37.3125 6.203125 41.140625 7.25 \r\nQ 44.96875 8.296875 48.78125 10.40625 \r\nL 48.78125 2.09375 \r\nQ 45.015625 0.34375 40.984375 -0.53125 \r\nQ 36.96875 -1.421875 32.421875 -1.421875 \r\nQ 20.0625 -1.421875 12.78125 6.34375 \r\nQ 5.515625 14.109375 5.515625 27.296875 \r\nQ 5.515625 40.671875 12.859375 48.328125 \r\nQ 20.21875 56 33.015625 56 \r\nQ 37.15625 56 41.109375 55.140625 \r\nQ 45.0625 54.296875 48.78125 52.59375 \r\nz\r\n\" id=\"DejaVuSans-99\"/>\r\n       <path d=\"M 9.8125 72.90625 \r\nL 55.90625 72.90625 \r\nL 55.90625 64.59375 \r\nL 19.671875 64.59375 \r\nL 19.671875 43.015625 \r\nL 54.390625 43.015625 \r\nL 54.390625 34.71875 \r\nL 19.671875 34.71875 \r\nL 19.671875 8.296875 \r\nL 56.78125 8.296875 \r\nL 56.78125 0 \r\nL 9.8125 0 \r\nz\r\n\" id=\"DejaVuSans-69\"/>\r\n      </defs>\r\n      <use xlink:href=\"#DejaVuSans-67\"/>\r\n      <use x=\"69.824219\" xlink:href=\"#DejaVuSans-108\"/>\r\n      <use x=\"97.607422\" xlink:href=\"#DejaVuSans-97\"/>\r\n      <use x=\"158.886719\" xlink:href=\"#DejaVuSans-115\"/>\r\n      <use x=\"210.986328\" xlink:href=\"#DejaVuSans-115\"/>\r\n      <use x=\"263.085938\" xlink:href=\"#DejaVuSans-105\"/>\r\n      <use x=\"290.869141\" xlink:href=\"#DejaVuSans-102\"/>\r\n      <use x=\"326.074219\" xlink:href=\"#DejaVuSans-105\"/>\r\n      <use x=\"353.857422\" xlink:href=\"#DejaVuSans-99\"/>\r\n      <use x=\"408.837891\" xlink:href=\"#DejaVuSans-97\"/>\r\n      <use x=\"470.117188\" xlink:href=\"#DejaVuSans-116\"/>\r\n      <use x=\"509.326172\" xlink:href=\"#DejaVuSans-105\"/>\r\n      <use x=\"537.109375\" xlink:href=\"#DejaVuSans-111\"/>\r\n      <use x=\"598.291016\" xlink:href=\"#DejaVuSans-110\"/>\r\n      <use x=\"661.669922\" xlink:href=\"#DejaVuSans-32\"/>\r\n      <use x=\"693.457031\" xlink:href=\"#DejaVuSans-69\"/>\r\n      <use x=\"756.640625\" xlink:href=\"#DejaVuSans-114\"/>\r\n      <use x=\"796.003906\" xlink:href=\"#DejaVuSans-114\"/>\r\n      <use x=\"834.867188\" xlink:href=\"#DejaVuSans-111\"/>\r\n      <use x=\"896.048828\" xlink:href=\"#DejaVuSans-114\"/>\r\n     </g>\r\n    </g>\r\n   </g>\r\n   <g id=\"line2d_16\">\r\n    <path clip-path=\"url(#p6e93f4f07e)\" d=\"M 65.361932 28.307443 \r\nL 65.965828 51.597985 \r\nL 66.569724 33.599389 \r\nL 67.17362 68.862721 \r\nL 68.381412 83.556229 \r\nL 68.985308 98.105683 \r\nL 69.589205 106.553227 \r\nL 70.193101 117.281173 \r\nL 70.796997 125.068243 \r\nL 71.400893 131.311489 \r\nL 72.004789 139.541593 \r\nL 75.628166 179.363011 \r\nL 76.232062 183.475345 \r\nL 76.835958 188.764573 \r\nL 79.251542 205.148677 \r\nL 79.855438 207.132817 \r\nL 80.459334 210.364519 \r\nL 81.063231 212.788975 \r\nL 81.667127 215.950009 \r\nL 82.271023 218.154307 \r\nL 82.874919 219.034939 \r\nL 84.082711 222.193255 \r\nL 84.686607 223.076605 \r\nL 85.290503 223.663693 \r\nL 85.894399 225.280903 \r\nL 86.498295 226.381693 \r\nL 87.102192 226.895395 \r\nL 89.517776 228.145675 \r\nL 90.725568 228.219061 \r\nL 92.537256 228.292447 \r\nL 93.745049 228.365833 \r\nL 369.725568 228.439219 \r\nL 369.725568 228.439219 \r\n\" style=\"fill:none;stroke:#1f77b4;stroke-linecap:square;stroke-width:1.5;\"/>\r\n   </g>\r\n   <g id=\"line2d_17\">\r\n    <path clip-path=\"url(#p6e93f4f07e)\" d=\"M 65.665694 -1 \r\nL 65.965828 11.268301 \r\nL 66.331219 -1 \r\nM 66.81534 -1 \r\nL 67.17362 10.681213 \r\nL 67.777516 17.440879 \r\nL 68.381412 22.436563 \r\nL 68.985308 35.366089 \r\nL 69.589205 37.717159 \r\nL 70.193101 40.951579 \r\nL 70.796997 46.827895 \r\nL 71.400893 48.591877 \r\nL 72.608685 54.761737 \r\nL 73.212581 61.521403 \r\nL 73.816477 61.814947 \r\nL 74.420373 66.810631 \r\nL 75.024269 68.868157 \r\nL 75.628166 68.281069 \r\nL 76.232062 72.393403 \r\nL 76.835958 75.627823 \r\nL 77.439854 75.627823 \r\nL 78.04375 80.329963 \r\nL 78.647646 80.917051 \r\nL 79.251542 78.859525 \r\nL 79.855438 80.917051 \r\nL 81.063231 83.268121 \r\nL 81.667127 85.619191 \r\nL 82.271023 90.027787 \r\nL 82.874919 89.437981 \r\nL 83.478815 92.378857 \r\nL 84.082711 93.259489 \r\nL 84.686607 93.259489 \r\nL 85.894399 97.374541 \r\nL 86.498295 100.899787 \r\nL 87.102192 99.725611 \r\nL 87.706088 99.135805 \r\nL 88.309984 98.842261 \r\nL 88.91388 100.312699 \r\nL 89.517776 100.019155 \r\nL 90.121672 100.312699 \r\nL 90.725568 100.019155 \r\nL 91.329464 100.606243 \r\nL 91.93336 101.780419 \r\nL 92.537256 102.663769 \r\nL 93.141153 104.131489 \r\nL 93.745049 104.131489 \r\nL 94.348945 105.014839 \r\nL 94.952841 104.425033 \r\nL 95.556737 104.425033 \r\nL 96.160633 106.482559 \r\nL 96.764529 106.482559 \r\nL 97.972321 110.304067 \r\nL 98.576218 111.184699 \r\nL 99.180114 110.010523 \r\nL 99.78401 110.010523 \r\nL 100.387906 111.184699 \r\nL 100.991802 111.184699 \r\nL 101.595698 113.535769 \r\nL 102.199594 112.655137 \r\nL 102.80349 112.068049 \r\nL 103.407386 112.655137 \r\nL 104.011282 112.655137 \r\nL 104.615179 112.948681 \r\nL 105.219075 112.655137 \r\nL 105.822971 111.478243 \r\nL 106.426867 111.771787 \r\nL 107.030763 113.242225 \r\nL 107.634659 112.361593 \r\nL 108.842451 114.122857 \r\nL 109.446347 112.948681 \r\nL 110.050244 113.829313 \r\nL 110.65414 113.829313 \r\nL 111.258036 113.242225 \r\nL 111.861932 112.948681 \r\nL 113.069724 112.948681 \r\nL 113.67362 111.478243 \r\nL 114.277516 112.361593 \r\nL 114.881412 111.478243 \r\nL 115.485308 112.068049 \r\nL 116.089205 112.068049 \r\nL 116.693101 112.655137 \r\nL 117.296997 112.361593 \r\nL 117.900893 112.655137 \r\nL 118.504789 112.068049 \r\nL 119.108685 112.655137 \r\nL 119.712581 112.068049 \r\nL 120.316477 111.771787 \r\nL 120.920373 112.068049 \r\nL 121.524269 111.771787 \r\nL 122.128166 112.948681 \r\nL 122.732062 114.419119 \r\nL 123.335958 113.829313 \r\nL 123.939854 114.122857 \r\nL 124.54375 114.122857 \r\nL 125.147646 114.419119 \r\nL 125.751542 113.535769 \r\nL 126.355438 113.829313 \r\nL 126.959334 113.535769 \r\nL 127.563231 114.419119 \r\nL 128.167127 114.122857 \r\nL 128.771023 113.535769 \r\nL 129.374919 114.712663 \r\nL 129.978815 113.242225 \r\nL 130.582711 112.948681 \r\nL 131.186607 114.419119 \r\nL 131.790503 115.006207 \r\nL 132.394399 114.419119 \r\nL 132.998295 114.122857 \r\nL 133.602192 113.535769 \r\nL 134.809984 114.712663 \r\nL 135.41388 114.419119 \r\nL 136.017776 115.006207 \r\nL 136.621672 114.419119 \r\nL 137.829464 115.593295 \r\nL 138.43336 114.712663 \r\nL 139.037256 115.006207 \r\nL 139.641153 115.006207 \r\nL 140.245049 114.122857 \r\nL 141.452841 115.299751 \r\nL 142.056737 115.593295 \r\nL 142.660633 115.299751 \r\nL 143.264529 115.593295 \r\nL 143.868425 114.712663 \r\nL 144.472321 115.593295 \r\nL 145.076218 115.299751 \r\nL 145.680114 115.886839 \r\nL 146.28401 115.299751 \r\nL 146.887906 115.299751 \r\nL 147.491802 115.006207 \r\nL 148.699594 115.593295 \r\nL 149.30349 116.180383 \r\nL 149.907386 115.886839 \r\nL 150.511282 115.886839 \r\nL 151.115179 117.063733 \r\nL 152.322971 117.063733 \r\nL 152.926867 116.767471 \r\nL 153.530763 116.767471 \r\nL 154.134659 117.063733 \r\nL 155.946347 117.063733 \r\nL 157.15414 117.650821 \r\nL 157.758036 117.357277 \r\nL 158.361932 117.357277 \r\nL 158.965828 117.650821 \r\nL 159.569724 117.357277 \r\nL 160.17362 117.357277 \r\nL 160.777516 117.063733 \r\nL 161.381412 117.357277 \r\nL 161.985308 117.944365 \r\nL 162.589205 117.944365 \r\nL 163.193101 117.650821 \r\nL 164.400893 117.650821 \r\nL 165.004789 117.357277 \r\nL 166.212581 117.944365 \r\nL 167.420373 117.944365 \r\nL 168.024269 117.650821 \r\nL 168.628166 117.944365 \r\nL 169.232062 117.944365 \r\nL 169.835958 118.531453 \r\nL 170.439854 118.531453 \r\nL 171.04375 117.650821 \r\nL 171.647646 117.944365 \r\nL 172.251542 117.944365 \r\nL 172.855438 117.650821 \r\nL 173.459334 117.944365 \r\nL 174.063231 117.944365 \r\nL 174.667127 118.237909 \r\nL 175.271023 117.944365 \r\nL 175.874919 117.357277 \r\nL 176.478815 117.650821 \r\nL 177.082711 117.650821 \r\nL 177.686607 117.944365 \r\nL 178.290503 117.944365 \r\nL 178.894399 118.531453 \r\nL 179.498295 117.944365 \r\nL 180.102192 118.824997 \r\nL 180.706088 118.531453 \r\nL 181.309984 119.118541 \r\nL 181.91388 118.824997 \r\nL 182.517776 118.824997 \r\nL 183.121672 118.531453 \r\nL 183.725568 118.824997 \r\nL 184.329464 118.824997 \r\nL 184.93336 119.118541 \r\nL 186.745049 119.118541 \r\nL 187.348945 118.824997 \r\nL 188.556737 118.824997 \r\nL 189.160633 119.708347 \r\nL 189.764529 118.824997 \r\nL 190.368425 119.118541 \r\nL 190.972321 119.118541 \r\nL 191.576218 119.708347 \r\nL 192.180114 119.414803 \r\nL 193.387906 119.414803 \r\nL 193.991802 119.708347 \r\nL 194.595698 118.824997 \r\nL 195.199594 119.414803 \r\nL 195.80349 119.708347 \r\nL 196.407386 119.414803 \r\nL 197.011282 118.531453 \r\nL 197.615179 119.708347 \r\nL 199.426867 119.708347 \r\nL 200.030763 119.118541 \r\nL 201.238555 119.118541 \r\nL 202.446347 119.708347 \r\nL 203.050244 119.708347 \r\nL 204.258036 119.118541 \r\nL 204.861932 119.118541 \r\nL 205.465828 119.414803 \r\nL 206.069724 119.414803 \r\nL 207.277516 120.001891 \r\nL 207.881412 120.001891 \r\nL 208.485308 119.708347 \r\nL 211.504789 119.708347 \r\nL 212.108685 119.414803 \r\nL 213.316477 120.001891 \r\nL 214.524269 120.001891 \r\nL 215.128166 120.295435 \r\nL 215.732062 120.295435 \r\nL 216.335958 120.001891 \r\nL 216.939854 120.295435 \r\nL 218.147646 120.295435 \r\nL 218.751542 120.588979 \r\nL 219.355438 121.176067 \r\nL 219.959334 120.882523 \r\nL 220.563231 120.882523 \r\nL 221.167127 121.469611 \r\nL 221.771023 121.469611 \r\nL 222.374919 120.588979 \r\nL 222.978815 120.882523 \r\nL 224.186607 120.882523 \r\nL 224.790503 120.588979 \r\nL 225.394399 121.469611 \r\nL 225.998295 121.469611 \r\nL 227.206088 122.059417 \r\nL 227.809984 122.059417 \r\nL 228.41388 121.765873 \r\nL 229.621672 121.765873 \r\nL 231.43336 122.646505 \r\nL 232.037256 122.352961 \r\nL 232.641153 122.352961 \r\nL 233.245049 121.765873 \r\nL 233.848945 120.882523 \r\nL 234.452841 121.765873 \r\nL 235.660633 121.765873 \r\nL 236.264529 121.469611 \r\nL 236.868425 120.882523 \r\nL 237.472321 120.882523 \r\nL 238.076218 121.469611 \r\nL 238.680114 121.765873 \r\nL 239.28401 121.765873 \r\nL 239.887906 121.176067 \r\nL 240.491802 121.765873 \r\nL 241.095698 121.765873 \r\nL 241.699594 122.059417 \r\nL 242.30349 121.765873 \r\nL 244.115179 121.765873 \r\nL 244.719075 122.059417 \r\nL 245.926867 121.469611 \r\nL 247.134659 121.469611 \r\nL 247.738555 121.765873 \r\nL 248.342451 121.469611 \r\nL 249.550244 121.469611 \r\nL 250.15414 121.176067 \r\nL 250.758036 121.176067 \r\nL 251.361932 121.469611 \r\nL 251.965828 121.176067 \r\nL 253.777516 121.176067 \r\nL 254.381412 121.469611 \r\nL 254.985308 121.469611 \r\nL 255.589205 121.176067 \r\nL 256.193101 121.469611 \r\nL 257.400893 121.469611 \r\nL 258.004789 121.176067 \r\nL 258.608685 121.469611 \r\nL 259.212581 121.469611 \r\nL 259.816477 121.176067 \r\nL 261.024269 121.765873 \r\nL 261.628166 121.176067 \r\nL 262.232062 121.765873 \r\nL 263.439854 121.176067 \r\nL 264.04375 121.765873 \r\nL 264.647646 122.059417 \r\nL 267.063231 122.059417 \r\nL 267.667127 121.765873 \r\nL 268.271023 122.352961 \r\nL 268.874919 122.059417 \r\nL 270.686607 122.059417 \r\nL 271.290503 121.765873 \r\nL 271.894399 122.352961 \r\nL 272.498295 122.646505 \r\nL 274.91388 122.646505 \r\nL 275.517776 122.940049 \r\nL 276.725568 122.940049 \r\nL 277.329464 122.646505 \r\nL 277.93336 122.940049 \r\nL 278.537256 122.646505 \r\nL 279.745049 122.646505 \r\nL 280.348945 122.940049 \r\nL 281.556737 122.940049 \r\nL 282.160633 123.233593 \r\nL 283.368425 122.646505 \r\nL 283.972321 122.059417 \r\nL 284.576218 122.352961 \r\nL 285.180114 122.059417 \r\nL 287.595698 122.059417 \r\nL 288.199594 122.646505 \r\nL 288.80349 122.059417 \r\nL 289.407386 121.765873 \r\nL 290.011282 122.352961 \r\nL 291.219075 122.352961 \r\nL 292.426867 122.940049 \r\nL 293.030763 122.940049 \r\nL 293.634659 122.352961 \r\nL 294.238555 122.940049 \r\nL 294.842451 122.352961 \r\nL 295.446347 122.940049 \r\nL 296.050244 122.646505 \r\nL 297.258036 123.233593 \r\nL 299.069724 123.233593 \r\nL 299.67362 122.940049 \r\nL 300.277516 123.233593 \r\nL 300.881412 122.646505 \r\nL 301.485308 123.233593 \r\nL 305.712581 123.233593 \r\nL 306.316477 123.527137 \r\nL 306.920373 123.527137 \r\nL 307.524269 122.940049 \r\nL 308.128166 122.940049 \r\nL 308.732062 123.233593 \r\nL 309.335958 123.820681 \r\nL 309.939854 123.233593 \r\nL 311.147646 122.646505 \r\nL 312.355438 122.646505 \r\nL 312.959334 122.059417 \r\nL 313.563231 122.352961 \r\nL 314.167127 122.352961 \r\nL 314.771023 121.765873 \r\nL 315.374919 122.059417 \r\nL 315.978815 121.765873 \r\nL 316.582711 121.765873 \r\nL 317.790503 122.352961 \r\nL 318.394399 121.765873 \r\nL 318.998295 122.059417 \r\nL 320.206088 122.059417 \r\nL 320.809984 122.352961 \r\nL 322.621672 122.352961 \r\nL 323.225568 121.765873 \r\nL 324.43336 122.352961 \r\nL 325.037256 122.352961 \r\nL 325.641153 122.059417 \r\nL 326.245049 122.352961 \r\nL 326.848945 122.352961 \r\nL 327.452841 122.059417 \r\nL 329.264529 122.059417 \r\nL 329.868425 122.646505 \r\nL 330.472321 121.176067 \r\nL 331.076218 121.469611 \r\nL 331.680114 122.059417 \r\nL 332.28401 122.352961 \r\nL 332.887906 122.059417 \r\nL 334.095698 122.059417 \r\nL 335.30349 122.646505 \r\nL 336.511282 122.646505 \r\nL 337.115179 122.059417 \r\nL 338.322971 122.059417 \r\nL 338.926867 122.352961 \r\nL 339.530763 122.352961 \r\nL 340.134659 122.646505 \r\nL 340.738555 122.352961 \r\nL 343.15414 122.352961 \r\nL 343.758036 122.646505 \r\nL 344.361932 122.646505 \r\nL 344.965828 122.352961 \r\nL 345.569724 122.352961 \r\nL 346.17362 122.646505 \r\nL 346.777516 122.646505 \r\nL 347.381412 122.352961 \r\nL 347.985308 122.646505 \r\nL 349.193101 122.646505 \r\nL 349.796997 122.940049 \r\nL 350.400893 123.527137 \r\nL 351.004789 122.940049 \r\nL 351.608685 122.646505 \r\nL 352.212581 122.940049 \r\nL 352.816477 122.352961 \r\nL 354.024269 122.352961 \r\nL 354.628166 122.059417 \r\nL 355.835958 122.059417 \r\nL 356.439854 121.765873 \r\nL 357.647646 121.765873 \r\nL 358.251542 122.059417 \r\nL 358.855438 122.059417 \r\nL 359.459334 122.352961 \r\nL 360.063231 122.059417 \r\nL 360.667127 122.352961 \r\nL 361.271023 122.352961 \r\nL 361.874919 122.059417 \r\nL 363.686607 122.059417 \r\nL 364.290503 122.646505 \r\nL 366.102192 122.646505 \r\nL 366.706088 122.352961 \r\nL 367.309984 122.646505 \r\nL 367.91388 122.352961 \r\nL 368.517776 122.352961 \r\nL 369.121672 122.646505 \r\nL 369.725568 122.352961 \r\nL 369.725568 122.352961 \r\n\" style=\"fill:none;stroke:#ff7f0e;stroke-linecap:square;stroke-width:1.5;\"/>\r\n   </g>\r\n   <g id=\"patch_3\">\r\n    <path d=\"M 50.14375 228.439219 \r\nL 50.14375 10.999219 \r\n\" style=\"fill:none;stroke:#000000;stroke-linecap:square;stroke-linejoin:miter;stroke-width:0.8;\"/>\r\n   </g>\r\n   <g id=\"patch_4\">\r\n    <path d=\"M 384.94375 228.439219 \r\nL 384.94375 10.999219 \r\n\" style=\"fill:none;stroke:#000000;stroke-linecap:square;stroke-linejoin:miter;stroke-width:0.8;\"/>\r\n   </g>\r\n   <g id=\"patch_5\">\r\n    <path d=\"M 50.14375 228.439219 \r\nL 384.94375 228.439219 \r\n\" style=\"fill:none;stroke:#000000;stroke-linecap:square;stroke-linejoin:miter;stroke-width:0.8;\"/>\r\n   </g>\r\n   <g id=\"patch_6\">\r\n    <path d=\"M 50.14375 10.999219 \r\nL 384.94375 10.999219 \r\n\" style=\"fill:none;stroke:#000000;stroke-linecap:square;stroke-linejoin:miter;stroke-width:0.8;\"/>\r\n   </g>\r\n   <g id=\"legend_1\">\r\n    <g id=\"patch_7\">\r\n     <path d=\"M 296.5625 48.355469 \r\nL 377.94375 48.355469 \r\nQ 379.94375 48.355469 379.94375 46.355469 \r\nL 379.94375 17.999219 \r\nQ 379.94375 15.999219 377.94375 15.999219 \r\nL 296.5625 15.999219 \r\nQ 294.5625 15.999219 294.5625 17.999219 \r\nL 294.5625 46.355469 \r\nQ 294.5625 48.355469 296.5625 48.355469 \r\nz\r\n\" style=\"fill:#ffffff;opacity:0.8;stroke:#cccccc;stroke-linejoin:miter;\"/>\r\n    </g>\r\n    <g id=\"line2d_18\">\r\n     <path d=\"M 298.5625 24.097656 \r\nL 318.5625 24.097656 \r\n\" style=\"fill:none;stroke:#1f77b4;stroke-linecap:square;stroke-width:1.5;\"/>\r\n    </g>\r\n    <g id=\"line2d_19\"/>\r\n    <g id=\"text_18\">\r\n     <!-- Train -->\r\n     <g transform=\"translate(326.5625 27.597656)scale(0.1 -0.1)\">\r\n      <defs>\r\n       <path d=\"M -0.296875 72.90625 \r\nL 61.375 72.90625 \r\nL 61.375 64.59375 \r\nL 35.5 64.59375 \r\nL 35.5 0 \r\nL 25.59375 0 \r\nL 25.59375 64.59375 \r\nL -0.296875 64.59375 \r\nz\r\n\" id=\"DejaVuSans-84\"/>\r\n      </defs>\r\n      <use xlink:href=\"#DejaVuSans-84\"/>\r\n      <use x=\"46.333984\" xlink:href=\"#DejaVuSans-114\"/>\r\n      <use x=\"87.447266\" xlink:href=\"#DejaVuSans-97\"/>\r\n      <use x=\"148.726562\" xlink:href=\"#DejaVuSans-105\"/>\r\n      <use x=\"176.509766\" xlink:href=\"#DejaVuSans-110\"/>\r\n     </g>\r\n    </g>\r\n    <g id=\"line2d_20\">\r\n     <path d=\"M 298.5625 38.775781 \r\nL 318.5625 38.775781 \r\n\" style=\"fill:none;stroke:#ff7f0e;stroke-linecap:square;stroke-width:1.5;\"/>\r\n    </g>\r\n    <g id=\"line2d_21\"/>\r\n    <g id=\"text_19\">\r\n     <!-- Validation -->\r\n     <g transform=\"translate(326.5625 42.275781)scale(0.1 -0.1)\">\r\n      <defs>\r\n       <path d=\"M 28.609375 0 \r\nL 0.78125 72.90625 \r\nL 11.078125 72.90625 \r\nL 34.1875 11.53125 \r\nL 57.328125 72.90625 \r\nL 67.578125 72.90625 \r\nL 39.796875 0 \r\nz\r\n\" id=\"DejaVuSans-86\"/>\r\n      </defs>\r\n      <use xlink:href=\"#DejaVuSans-86\"/>\r\n      <use x=\"60.658203\" xlink:href=\"#DejaVuSans-97\"/>\r\n      <use x=\"121.9375\" xlink:href=\"#DejaVuSans-108\"/>\r\n      <use x=\"149.720703\" xlink:href=\"#DejaVuSans-105\"/>\r\n      <use x=\"177.503906\" xlink:href=\"#DejaVuSans-100\"/>\r\n      <use x=\"240.980469\" xlink:href=\"#DejaVuSans-97\"/>\r\n      <use x=\"302.259766\" xlink:href=\"#DejaVuSans-116\"/>\r\n      <use x=\"341.46875\" xlink:href=\"#DejaVuSans-105\"/>\r\n      <use x=\"369.251953\" xlink:href=\"#DejaVuSans-111\"/>\r\n      <use x=\"430.433594\" xlink:href=\"#DejaVuSans-110\"/>\r\n     </g>\r\n    </g>\r\n   </g>\r\n  </g>\r\n </g>\r\n <defs>\r\n  <clipPath id=\"p6e93f4f07e\">\r\n   <rect height=\"217.44\" width=\"334.8\" x=\"50.14375\" y=\"10.999219\"/>\r\n  </clipPath>\r\n </defs>\r\n</svg>\r\n",
      "image/png": "[encoded data removed]"
     },
     "metadata": {
      "needs_background": "light"
     }
    }
   ],
   "metadata": {}
  },
  {
   "cell_type": "code",
   "execution_count": 52,
   "source": [
    "y_pred = model.predict(X_val_encoded)\r\n",
    "print('검증 정확도: ', accuracy_score(y_val, y_pred))\r\n",
    "print('f1 score : ', f1_score(y_val, y_pred))\r\n",
    "\r\n",
    "## max_depth 10 : 0.5644768856447688\r\n",
    "## max_depth 15 : 0.5751789976133651\r\n",
    "## max_depth 20 : 0.5724725943970768\r\n",
    "## max_depth 18 : 0.5697258641239571\r\n",
    "## max_depth 17 : 0.5538089480048367\r\n",
    "## max_depth 16 : 0.5645933014354068\r\n",
    "## max_depth 14 : 0.5631768953068592"
   ],
   "outputs": [
    {
     "output_type": "stream",
     "name": "stdout",
     "text": [
      "검증 정확도:  0.9615093523624175\n",
      "f1 score :  0.5751789976133651\n"
     ]
    }
   ],
   "metadata": {}
  },
  {
   "cell_type": "markdown",
   "source": [
    "### 하이퍼 파라미터 튜닝을 통해서 f1 score가 올라갔다\r\n",
    "\r\n",
    "ordinal 인코더에서 **target 인코더**로 바꾸고 다시 성능을 구해 본다"
   ],
   "metadata": {}
  },
  {
   "cell_type": "code",
   "execution_count": null,
   "source": [
    "from category_encoders import TargetEncoder\r\n",
    "\r\n",
    "encoder = TargetEncoder(min_samples_leaf=1, smoothing=100)\r\n",
    "X_train_encoded = encoder.fit_transform(X_train, y_train)\r\n",
    "X_val_encoded = encoder.transform(X_val, y_val)\r\n",
    "\r\n",
    "model = XGBClassifier(\r\n",
    "    n_estimators=1000,  # <= 1000 트리로 설정했지만, early stopping 에 따라 조절됩니다.\r\n",
    "    max_depth=15,        # default=3, high cardinality 특성을 위해 기본보다 높여 보았습니다.\r\n",
    "    learning_rate=0.2,\r\n",
    "    scale_pos_weight=ratio, # imbalance 데이터 일 경우 비율을 적용합니다.\r\n",
    "    n_jobs=-1\r\n",
    ")\r\n",
    "\r\n",
    "eval_set = [(X_train_encoded, y_train), \r\n",
    "            (X_val_encoded, y_val)]\r\n",
    "\r\n",
    "model.fit(X_train_encoded, y_train, \r\n",
    "          eval_set=eval_set,\r\n",
    "          eval_metric='error', # #(wrong cases)/#(all cases)\r\n",
    "          early_stopping_rounds=100\r\n",
    "         ) # 100 rounds 동안 스코어의 개선이 없으면 멈춤"
   ],
   "outputs": [],
   "metadata": {}
  },
  {
   "cell_type": "code",
   "execution_count": 66,
   "source": [
    "y_pred = model.predict(X_val_encoded)\r\n",
    "print('검증 정확도: ', accuracy_score(y_val, y_pred))\r\n",
    "print('f1 score : ', f1_score(y_val, y_pred))"
   ],
   "outputs": [
    {
     "output_type": "stream",
     "name": "stdout",
     "text": [
      "검증 정확도:  0.9586982376473132\n",
      "f1 score :  0.5295566502463054\n"
     ]
    }
   ],
   "metadata": {}
  },
  {
   "cell_type": "markdown",
   "source": [
    "ordinal 인코더 보다 성능이 떨어진다.  \r\n",
    "\r\n",
    "## 교차 검증\r\n",
    "\r\n",
    "train val 로 나누었던 데이터를 concat 해주고\r\n",
    "이전에 계산한 importance를 적용해 준다."
   ],
   "metadata": {}
  },
  {
   "cell_type": "code",
   "execution_count": 75,
   "source": [
    "X_train = pd.concat([X_train, X_val])\r\n",
    "y_train = pd.concat([y_train, y_val])"
   ],
   "outputs": [],
   "metadata": {}
  },
  {
   "cell_type": "markdown",
   "source": [
    "strikes             0.000023\r\n",
    "away_team           0.000089\r\n",
    "is_batter_lefty     0.000731\r\n",
    "outs_when_up        0.000737\r\n",
    "batter_id           0.000778\r\n",
    "pitch_name          0.000931\r\n",
    "bip_id              0.001065\r\n",
    "game_date           0.001264\r\n",
    "home_team           0.003379\r\n",
    "plate_z             0.006286\r\n",
    "plate_x             0.012205\r\n",
    "bearing             0.018120\r\n",
    "bb_type             0.215655\r\n",
    "launch_angle        0.252886\r\n",
    "launch_speed        0.356882"
   ],
   "metadata": {}
  },
  {
   "cell_type": "code",
   "execution_count": 76,
   "source": [
    "selected_features = ['launch_speed', 'launch_angle', 'bb_type', 'bearing', 'plate_x', 'plate_z', 'home_team', 'game_date', 'bip_id', 'pitch_name',\r\n",
    "            'batter_id', 'outs_when_up', 'is_batter_lefty', 'away_team', 'strikes']\r\n",
    "\r\n",
    "X_train_selected = X_train[selected_features]"
   ],
   "outputs": [],
   "metadata": {}
  },
  {
   "cell_type": "code",
   "execution_count": null,
   "source": [
    "from sklearn.impute import SimpleImputer\r\n",
    "from sklearn.model_selection import cross_val_score\r\n",
    "\r\n",
    "pipe = make_pipeline(\r\n",
    "    OrdinalEncoder(),\r\n",
    "    SimpleImputer(strategy='mean'), \r\n",
    "    XGBClassifier(\r\n",
    "        n_estimators=1000,  \r\n",
    "        max_depth=15,        \r\n",
    "        learning_rate=0.2,\r\n",
    "        scale_pos_weight=ratio, \r\n",
    "        n_jobs=-1)\r\n",
    ")\r\n",
    "\r\n",
    "k = 10\r\n",
    "\r\n",
    "scores = cross_val_score(pipe, X_train_selected, y_train, cv=k, scoring='f1')\r\n",
    "\r\n",
    "print(f'f1 for {k} folds:', -scores)\r\n"
   ],
   "outputs": [],
   "metadata": {}
  },
  {
   "cell_type": "code",
   "execution_count": 82,
   "source": [
    "scores.mean()"
   ],
   "outputs": [
    {
     "output_type": "execute_result",
     "data": {
      "text/plain": [
       "0.5760659888171562"
      ]
     },
     "metadata": {},
     "execution_count": 82
    }
   ],
   "metadata": {}
  },
  {
   "cell_type": "markdown",
   "source": [
    "feature 최적화와 교차검증에 의해서 f1 score 의 값이 오른것을 볼 수 있다.\r\n",
    "\r\n",
    "## Randomized Search CV"
   ],
   "metadata": {}
  },
  {
   "cell_type": "code",
   "execution_count": 88,
   "source": [
    "from sklearn.model_selection import RandomizedSearchCV\r\n",
    "\r\n",
    "pipe_2 = make_pipeline(\r\n",
    "    OrdinalEncoder(),\r\n",
    "    SimpleImputer(),\r\n",
    "    XGBClassifier()\r\n",
    ")\r\n",
    "\r\n",
    "dists = {\r\n",
    "    'silent': [False],\r\n",
    "    'max_depth': [6, 10, 15, 20],\r\n",
    "    'learning_rate': [0.001, 0.01, 0.1, 0.2, 0,3],\r\n",
    "    'subsample': [0.5, 0.6, 0.7, 0.8, 0.9, 1.0],\r\n",
    "    'colsample_bytree': [0.4, 0.5, 0.6, 0.7, 0.8, 0.9, 1.0],\r\n",
    "    'colsample_bylevel': [0.4, 0.5, 0.6, 0.7, 0.8, 0.9, 1.0],\r\n",
    "    'min_child_weight': [0.5, 1.0, 3.0, 5.0, 7.0, 10.0],\r\n",
    "    'gamma': [0, 0.25, 0.5, 1.0],\r\n",
    "    'reg_lambda': [0.1, 1.0, 5.0, 10.0, 50.0, 100.0],\r\n",
    "    'n_estimators': [100]\r\n",
    "}\r\n",
    "\r\n",
    "fit_params = {'eval_metric': 'mlogloss',\r\n",
    "              'early_stopping_rounds': 10,\r\n",
    "              'eval_set': [(X_train, y_train)]}\r\n",
    "\r\n",
    "rs_clf = RandomizedSearchCV(pipe_2,\r\n",
    "                            param_distributions = dists, \r\n",
    "                            n_jobs=-1, \r\n",
    "                            verbose=1, \r\n",
    "                            cv=3,\r\n",
    "                            scoring='neg_log_loss', \r\n",
    "                            refit=False, \r\n",
    "                            random_state=42\r\n",
    "                            )\r\n",
    "\r\n",
    "rs_clf.fit(X_train, y_train)\r\n",
    "\r\n",
    "best_score = rs_clf.best_score_\r\n",
    "best_params = rs_clf.best_params_\r\n",
    "print(\"Best score: {}\".format(best_score))\r\n",
    "print(\"Best params: \")\r\n",
    "for param_name in sorted(best_params.keys()):\r\n",
    "    print('%s: %r' % (param_name, best_params[param_name]))"
   ],
   "outputs": [
    {
     "output_type": "stream",
     "name": "stdout",
     "text": [
      "Fitting 3 folds for each of 20 candidates, totalling 60 fits\n"
     ]
    },
    {
     "output_type": "error",
     "ename": "ValueError",
     "evalue": "Invalid parameter subsample for estimator Pipeline(steps=[('ordinalencoder', OrdinalEncoder()),\n                ('simpleimputer', SimpleImputer()),\n                ('xgbclassifier',\n                 XGBClassifier(base_score=None, booster=None,\n                               colsample_bylevel=None, colsample_bynode=None,\n                               colsample_bytree=None, gamma=None, gpu_id=None,\n                               importance_type='gain',\n                               interaction_constraints=None, learning_rate=None,\n                               max_delta_step=None, max_depth=None,\n                               min_child_weight=None, missing=nan,\n                               monotone_constraints=None, n_estimators=100,\n                               n_jobs=None, num_parallel_tree=None,\n                               random_state=None, reg_alpha=None,\n                               reg_lambda=None, scale_pos_weight=None,\n                               subsample=None, tree_method=None,\n                               validate_parameters=None, verbosity=None))]). Check the list of available parameters with `estimator.get_params().keys()`.",
     "traceback": [
      "\u001b[1;31m---------------------------------------------------------------------------\u001b[0m",
      "\u001b[1;31m_RemoteTraceback\u001b[0m                          Traceback (most recent call last)",
      "\u001b[1;31m_RemoteTraceback\u001b[0m: \n\"\"\"\nTraceback (most recent call last):\n  File \"C:\\Users\\comic\\anaconda3\\lib\\site-packages\\joblib\\externals\\loky\\process_executor.py\", line 431, in _process_worker\n    r = call_item()\n  File \"C:\\Users\\comic\\anaconda3\\lib\\site-packages\\joblib\\externals\\loky\\process_executor.py\", line 285, in __call__\n    return self.fn(*self.args, **self.kwargs)\n  File \"C:\\Users\\comic\\anaconda3\\lib\\site-packages\\joblib\\_parallel_backends.py\", line 595, in __call__\n    return self.func(*args, **kwargs)\n  File \"C:\\Users\\comic\\anaconda3\\lib\\site-packages\\joblib\\parallel.py\", line 262, in __call__\n    return [func(*args, **kwargs)\n  File \"C:\\Users\\comic\\anaconda3\\lib\\site-packages\\joblib\\parallel.py\", line 262, in <listcomp>\n    return [func(*args, **kwargs)\n  File \"C:\\Users\\comic\\anaconda3\\lib\\site-packages\\sklearn\\utils\\fixes.py\", line 222, in __call__\n    return self.function(*args, **kwargs)\n  File \"C:\\Users\\comic\\anaconda3\\lib\\site-packages\\sklearn\\model_selection\\_validation.py\", line 581, in _fit_and_score\n    estimator = estimator.set_params(**cloned_parameters)\n  File \"C:\\Users\\comic\\anaconda3\\lib\\site-packages\\sklearn\\pipeline.py\", line 150, in set_params\n    self._set_params('steps', **kwargs)\n  File \"C:\\Users\\comic\\anaconda3\\lib\\site-packages\\sklearn\\utils\\metaestimators.py\", line 54, in _set_params\n    super().set_params(**params)\n  File \"C:\\Users\\comic\\anaconda3\\lib\\site-packages\\sklearn\\base.py\", line 230, in set_params\n    raise ValueError('Invalid parameter %s for estimator %s. '\nValueError: Invalid parameter subsample for estimator Pipeline(steps=[('ordinalencoder', OrdinalEncoder()),\n                ('simpleimputer', SimpleImputer()),\n                ('xgbclassifier',\n                 XGBClassifier(base_score=None, booster=None,\n                               colsample_bylevel=None, colsample_bynode=None,\n                               colsample_bytree=None, gamma=None, gpu_id=None,\n                               importance_type='gain',\n                               interaction_constraints=None, learning_rate=None,\n                               max_delta_step=None, max_depth=None,\n                               min_child_weight=None, missing=nan,\n                               monotone_constraints=None, n_estimators=100,\n                               n_jobs=None, num_parallel_tree=None,\n                               random_state=None, reg_alpha=None,\n                               reg_lambda=None, scale_pos_weight=None,\n                               subsample=None, tree_method=None,\n                               validate_parameters=None, verbosity=None))]). Check the list of available parameters with `estimator.get_params().keys()`.\n\"\"\"",
      "\nThe above exception was the direct cause of the following exception:\n",
      "\u001b[1;31mValueError\u001b[0m                                Traceback (most recent call last)",
      "\u001b[1;32m<ipython-input-88-cce6f38d2922>\u001b[0m in \u001b[0;36m<module>\u001b[1;34m\u001b[0m\n\u001b[0;32m     34\u001b[0m                             scoring='neg_log_loss', refit=False, random_state=42)\n\u001b[0;32m     35\u001b[0m \u001b[1;33m\u001b[0m\u001b[0m\n\u001b[1;32m---> 36\u001b[1;33m \u001b[0mrs_clf\u001b[0m\u001b[1;33m.\u001b[0m\u001b[0mfit\u001b[0m\u001b[1;33m(\u001b[0m\u001b[0mX_train\u001b[0m\u001b[1;33m,\u001b[0m \u001b[0my_train\u001b[0m\u001b[1;33m)\u001b[0m\u001b[1;33m\u001b[0m\u001b[1;33m\u001b[0m\u001b[0m\n\u001b[0m\u001b[0;32m     37\u001b[0m \u001b[1;33m\u001b[0m\u001b[0m\n\u001b[0;32m     38\u001b[0m \u001b[0mbest_score\u001b[0m \u001b[1;33m=\u001b[0m \u001b[0mrs_clf\u001b[0m\u001b[1;33m.\u001b[0m\u001b[0mbest_score_\u001b[0m\u001b[1;33m\u001b[0m\u001b[1;33m\u001b[0m\u001b[0m\n",
      "\u001b[1;32m~\\anaconda3\\lib\\site-packages\\sklearn\\utils\\validation.py\u001b[0m in \u001b[0;36minner_f\u001b[1;34m(*args, **kwargs)\u001b[0m\n\u001b[0;32m     61\u001b[0m             \u001b[0mextra_args\u001b[0m \u001b[1;33m=\u001b[0m \u001b[0mlen\u001b[0m\u001b[1;33m(\u001b[0m\u001b[0margs\u001b[0m\u001b[1;33m)\u001b[0m \u001b[1;33m-\u001b[0m \u001b[0mlen\u001b[0m\u001b[1;33m(\u001b[0m\u001b[0mall_args\u001b[0m\u001b[1;33m)\u001b[0m\u001b[1;33m\u001b[0m\u001b[1;33m\u001b[0m\u001b[0m\n\u001b[0;32m     62\u001b[0m             \u001b[1;32mif\u001b[0m \u001b[0mextra_args\u001b[0m \u001b[1;33m<=\u001b[0m \u001b[1;36m0\u001b[0m\u001b[1;33m:\u001b[0m\u001b[1;33m\u001b[0m\u001b[1;33m\u001b[0m\u001b[0m\n\u001b[1;32m---> 63\u001b[1;33m                 \u001b[1;32mreturn\u001b[0m \u001b[0mf\u001b[0m\u001b[1;33m(\u001b[0m\u001b[1;33m*\u001b[0m\u001b[0margs\u001b[0m\u001b[1;33m,\u001b[0m \u001b[1;33m**\u001b[0m\u001b[0mkwargs\u001b[0m\u001b[1;33m)\u001b[0m\u001b[1;33m\u001b[0m\u001b[1;33m\u001b[0m\u001b[0m\n\u001b[0m\u001b[0;32m     64\u001b[0m \u001b[1;33m\u001b[0m\u001b[0m\n\u001b[0;32m     65\u001b[0m             \u001b[1;31m# extra_args > 0\u001b[0m\u001b[1;33m\u001b[0m\u001b[1;33m\u001b[0m\u001b[1;33m\u001b[0m\u001b[0m\n",
      "\u001b[1;32m~\\anaconda3\\lib\\site-packages\\sklearn\\model_selection\\_search.py\u001b[0m in \u001b[0;36mfit\u001b[1;34m(self, X, y, groups, **fit_params)\u001b[0m\n\u001b[0;32m    839\u001b[0m                 \u001b[1;32mreturn\u001b[0m \u001b[0mresults\u001b[0m\u001b[1;33m\u001b[0m\u001b[1;33m\u001b[0m\u001b[0m\n\u001b[0;32m    840\u001b[0m \u001b[1;33m\u001b[0m\u001b[0m\n\u001b[1;32m--> 841\u001b[1;33m             \u001b[0mself\u001b[0m\u001b[1;33m.\u001b[0m\u001b[0m_run_search\u001b[0m\u001b[1;33m(\u001b[0m\u001b[0mevaluate_candidates\u001b[0m\u001b[1;33m)\u001b[0m\u001b[1;33m\u001b[0m\u001b[1;33m\u001b[0m\u001b[0m\n\u001b[0m\u001b[0;32m    842\u001b[0m \u001b[1;33m\u001b[0m\u001b[0m\n\u001b[0;32m    843\u001b[0m             \u001b[1;31m# multimetric is determined here because in the case of a callable\u001b[0m\u001b[1;33m\u001b[0m\u001b[1;33m\u001b[0m\u001b[1;33m\u001b[0m\u001b[0m\n",
      "\u001b[1;32m~\\anaconda3\\lib\\site-packages\\sklearn\\model_selection\\_search.py\u001b[0m in \u001b[0;36m_run_search\u001b[1;34m(self, evaluate_candidates)\u001b[0m\n\u001b[0;32m   1617\u001b[0m     \u001b[1;32mdef\u001b[0m \u001b[0m_run_search\u001b[0m\u001b[1;33m(\u001b[0m\u001b[0mself\u001b[0m\u001b[1;33m,\u001b[0m \u001b[0mevaluate_candidates\u001b[0m\u001b[1;33m)\u001b[0m\u001b[1;33m:\u001b[0m\u001b[1;33m\u001b[0m\u001b[1;33m\u001b[0m\u001b[0m\n\u001b[0;32m   1618\u001b[0m         \u001b[1;34m\"\"\"Search n_iter candidates from param_distributions\"\"\"\u001b[0m\u001b[1;33m\u001b[0m\u001b[1;33m\u001b[0m\u001b[0m\n\u001b[1;32m-> 1619\u001b[1;33m         evaluate_candidates(ParameterSampler(\n\u001b[0m\u001b[0;32m   1620\u001b[0m             \u001b[0mself\u001b[0m\u001b[1;33m.\u001b[0m\u001b[0mparam_distributions\u001b[0m\u001b[1;33m,\u001b[0m \u001b[0mself\u001b[0m\u001b[1;33m.\u001b[0m\u001b[0mn_iter\u001b[0m\u001b[1;33m,\u001b[0m\u001b[1;33m\u001b[0m\u001b[1;33m\u001b[0m\u001b[0m\n\u001b[0;32m   1621\u001b[0m             random_state=self.random_state))\n",
      "\u001b[1;32m~\\anaconda3\\lib\\site-packages\\sklearn\\model_selection\\_search.py\u001b[0m in \u001b[0;36mevaluate_candidates\u001b[1;34m(candidate_params, cv, more_results)\u001b[0m\n\u001b[0;32m    793\u001b[0m                               n_splits, n_candidates, n_candidates * n_splits))\n\u001b[0;32m    794\u001b[0m \u001b[1;33m\u001b[0m\u001b[0m\n\u001b[1;32m--> 795\u001b[1;33m                 out = parallel(delayed(_fit_and_score)(clone(base_estimator),\n\u001b[0m\u001b[0;32m    796\u001b[0m                                                        \u001b[0mX\u001b[0m\u001b[1;33m,\u001b[0m \u001b[0my\u001b[0m\u001b[1;33m,\u001b[0m\u001b[1;33m\u001b[0m\u001b[1;33m\u001b[0m\u001b[0m\n\u001b[0;32m    797\u001b[0m                                                        \u001b[0mtrain\u001b[0m\u001b[1;33m=\u001b[0m\u001b[0mtrain\u001b[0m\u001b[1;33m,\u001b[0m \u001b[0mtest\u001b[0m\u001b[1;33m=\u001b[0m\u001b[0mtest\u001b[0m\u001b[1;33m,\u001b[0m\u001b[1;33m\u001b[0m\u001b[1;33m\u001b[0m\u001b[0m\n",
      "\u001b[1;32m~\\anaconda3\\lib\\site-packages\\joblib\\parallel.py\u001b[0m in \u001b[0;36m__call__\u001b[1;34m(self, iterable)\u001b[0m\n\u001b[0;32m   1052\u001b[0m \u001b[1;33m\u001b[0m\u001b[0m\n\u001b[0;32m   1053\u001b[0m             \u001b[1;32mwith\u001b[0m \u001b[0mself\u001b[0m\u001b[1;33m.\u001b[0m\u001b[0m_backend\u001b[0m\u001b[1;33m.\u001b[0m\u001b[0mretrieval_context\u001b[0m\u001b[1;33m(\u001b[0m\u001b[1;33m)\u001b[0m\u001b[1;33m:\u001b[0m\u001b[1;33m\u001b[0m\u001b[1;33m\u001b[0m\u001b[0m\n\u001b[1;32m-> 1054\u001b[1;33m                 \u001b[0mself\u001b[0m\u001b[1;33m.\u001b[0m\u001b[0mretrieve\u001b[0m\u001b[1;33m(\u001b[0m\u001b[1;33m)\u001b[0m\u001b[1;33m\u001b[0m\u001b[1;33m\u001b[0m\u001b[0m\n\u001b[0m\u001b[0;32m   1055\u001b[0m             \u001b[1;31m# Make sure that we get a last message telling us we are done\u001b[0m\u001b[1;33m\u001b[0m\u001b[1;33m\u001b[0m\u001b[1;33m\u001b[0m\u001b[0m\n\u001b[0;32m   1056\u001b[0m             \u001b[0melapsed_time\u001b[0m \u001b[1;33m=\u001b[0m \u001b[0mtime\u001b[0m\u001b[1;33m.\u001b[0m\u001b[0mtime\u001b[0m\u001b[1;33m(\u001b[0m\u001b[1;33m)\u001b[0m \u001b[1;33m-\u001b[0m \u001b[0mself\u001b[0m\u001b[1;33m.\u001b[0m\u001b[0m_start_time\u001b[0m\u001b[1;33m\u001b[0m\u001b[1;33m\u001b[0m\u001b[0m\n",
      "\u001b[1;32m~\\anaconda3\\lib\\site-packages\\joblib\\parallel.py\u001b[0m in \u001b[0;36mretrieve\u001b[1;34m(self)\u001b[0m\n\u001b[0;32m    931\u001b[0m             \u001b[1;32mtry\u001b[0m\u001b[1;33m:\u001b[0m\u001b[1;33m\u001b[0m\u001b[1;33m\u001b[0m\u001b[0m\n\u001b[0;32m    932\u001b[0m                 \u001b[1;32mif\u001b[0m \u001b[0mgetattr\u001b[0m\u001b[1;33m(\u001b[0m\u001b[0mself\u001b[0m\u001b[1;33m.\u001b[0m\u001b[0m_backend\u001b[0m\u001b[1;33m,\u001b[0m \u001b[1;34m'supports_timeout'\u001b[0m\u001b[1;33m,\u001b[0m \u001b[1;32mFalse\u001b[0m\u001b[1;33m)\u001b[0m\u001b[1;33m:\u001b[0m\u001b[1;33m\u001b[0m\u001b[1;33m\u001b[0m\u001b[0m\n\u001b[1;32m--> 933\u001b[1;33m                     \u001b[0mself\u001b[0m\u001b[1;33m.\u001b[0m\u001b[0m_output\u001b[0m\u001b[1;33m.\u001b[0m\u001b[0mextend\u001b[0m\u001b[1;33m(\u001b[0m\u001b[0mjob\u001b[0m\u001b[1;33m.\u001b[0m\u001b[0mget\u001b[0m\u001b[1;33m(\u001b[0m\u001b[0mtimeout\u001b[0m\u001b[1;33m=\u001b[0m\u001b[0mself\u001b[0m\u001b[1;33m.\u001b[0m\u001b[0mtimeout\u001b[0m\u001b[1;33m)\u001b[0m\u001b[1;33m)\u001b[0m\u001b[1;33m\u001b[0m\u001b[1;33m\u001b[0m\u001b[0m\n\u001b[0m\u001b[0;32m    934\u001b[0m                 \u001b[1;32melse\u001b[0m\u001b[1;33m:\u001b[0m\u001b[1;33m\u001b[0m\u001b[1;33m\u001b[0m\u001b[0m\n\u001b[0;32m    935\u001b[0m                     \u001b[0mself\u001b[0m\u001b[1;33m.\u001b[0m\u001b[0m_output\u001b[0m\u001b[1;33m.\u001b[0m\u001b[0mextend\u001b[0m\u001b[1;33m(\u001b[0m\u001b[0mjob\u001b[0m\u001b[1;33m.\u001b[0m\u001b[0mget\u001b[0m\u001b[1;33m(\u001b[0m\u001b[1;33m)\u001b[0m\u001b[1;33m)\u001b[0m\u001b[1;33m\u001b[0m\u001b[1;33m\u001b[0m\u001b[0m\n",
      "\u001b[1;32m~\\anaconda3\\lib\\site-packages\\joblib\\_parallel_backends.py\u001b[0m in \u001b[0;36mwrap_future_result\u001b[1;34m(future, timeout)\u001b[0m\n\u001b[0;32m    540\u001b[0m         AsyncResults.get from multiprocessing.\"\"\"\n\u001b[0;32m    541\u001b[0m         \u001b[1;32mtry\u001b[0m\u001b[1;33m:\u001b[0m\u001b[1;33m\u001b[0m\u001b[1;33m\u001b[0m\u001b[0m\n\u001b[1;32m--> 542\u001b[1;33m             \u001b[1;32mreturn\u001b[0m \u001b[0mfuture\u001b[0m\u001b[1;33m.\u001b[0m\u001b[0mresult\u001b[0m\u001b[1;33m(\u001b[0m\u001b[0mtimeout\u001b[0m\u001b[1;33m=\u001b[0m\u001b[0mtimeout\u001b[0m\u001b[1;33m)\u001b[0m\u001b[1;33m\u001b[0m\u001b[1;33m\u001b[0m\u001b[0m\n\u001b[0m\u001b[0;32m    543\u001b[0m         \u001b[1;32mexcept\u001b[0m \u001b[0mCfTimeoutError\u001b[0m \u001b[1;32mas\u001b[0m \u001b[0me\u001b[0m\u001b[1;33m:\u001b[0m\u001b[1;33m\u001b[0m\u001b[1;33m\u001b[0m\u001b[0m\n\u001b[0;32m    544\u001b[0m             \u001b[1;32mraise\u001b[0m \u001b[0mTimeoutError\u001b[0m \u001b[1;32mfrom\u001b[0m \u001b[0me\u001b[0m\u001b[1;33m\u001b[0m\u001b[1;33m\u001b[0m\u001b[0m\n",
      "\u001b[1;32m~\\anaconda3\\lib\\concurrent\\futures\\_base.py\u001b[0m in \u001b[0;36mresult\u001b[1;34m(self, timeout)\u001b[0m\n\u001b[0;32m    437\u001b[0m                 \u001b[1;32mraise\u001b[0m \u001b[0mCancelledError\u001b[0m\u001b[1;33m(\u001b[0m\u001b[1;33m)\u001b[0m\u001b[1;33m\u001b[0m\u001b[1;33m\u001b[0m\u001b[0m\n\u001b[0;32m    438\u001b[0m             \u001b[1;32melif\u001b[0m \u001b[0mself\u001b[0m\u001b[1;33m.\u001b[0m\u001b[0m_state\u001b[0m \u001b[1;33m==\u001b[0m \u001b[0mFINISHED\u001b[0m\u001b[1;33m:\u001b[0m\u001b[1;33m\u001b[0m\u001b[1;33m\u001b[0m\u001b[0m\n\u001b[1;32m--> 439\u001b[1;33m                 \u001b[1;32mreturn\u001b[0m \u001b[0mself\u001b[0m\u001b[1;33m.\u001b[0m\u001b[0m__get_result\u001b[0m\u001b[1;33m(\u001b[0m\u001b[1;33m)\u001b[0m\u001b[1;33m\u001b[0m\u001b[1;33m\u001b[0m\u001b[0m\n\u001b[0m\u001b[0;32m    440\u001b[0m             \u001b[1;32melse\u001b[0m\u001b[1;33m:\u001b[0m\u001b[1;33m\u001b[0m\u001b[1;33m\u001b[0m\u001b[0m\n\u001b[0;32m    441\u001b[0m                 \u001b[1;32mraise\u001b[0m \u001b[0mTimeoutError\u001b[0m\u001b[1;33m(\u001b[0m\u001b[1;33m)\u001b[0m\u001b[1;33m\u001b[0m\u001b[1;33m\u001b[0m\u001b[0m\n",
      "\u001b[1;32m~\\anaconda3\\lib\\concurrent\\futures\\_base.py\u001b[0m in \u001b[0;36m__get_result\u001b[1;34m(self)\u001b[0m\n\u001b[0;32m    386\u001b[0m     \u001b[1;32mdef\u001b[0m \u001b[0m__get_result\u001b[0m\u001b[1;33m(\u001b[0m\u001b[0mself\u001b[0m\u001b[1;33m)\u001b[0m\u001b[1;33m:\u001b[0m\u001b[1;33m\u001b[0m\u001b[1;33m\u001b[0m\u001b[0m\n\u001b[0;32m    387\u001b[0m         \u001b[1;32mif\u001b[0m \u001b[0mself\u001b[0m\u001b[1;33m.\u001b[0m\u001b[0m_exception\u001b[0m\u001b[1;33m:\u001b[0m\u001b[1;33m\u001b[0m\u001b[1;33m\u001b[0m\u001b[0m\n\u001b[1;32m--> 388\u001b[1;33m             \u001b[1;32mraise\u001b[0m \u001b[0mself\u001b[0m\u001b[1;33m.\u001b[0m\u001b[0m_exception\u001b[0m\u001b[1;33m\u001b[0m\u001b[1;33m\u001b[0m\u001b[0m\n\u001b[0m\u001b[0;32m    389\u001b[0m         \u001b[1;32melse\u001b[0m\u001b[1;33m:\u001b[0m\u001b[1;33m\u001b[0m\u001b[1;33m\u001b[0m\u001b[0m\n\u001b[0;32m    390\u001b[0m             \u001b[1;32mreturn\u001b[0m \u001b[0mself\u001b[0m\u001b[1;33m.\u001b[0m\u001b[0m_result\u001b[0m\u001b[1;33m\u001b[0m\u001b[1;33m\u001b[0m\u001b[0m\n",
      "\u001b[1;31mValueError\u001b[0m: Invalid parameter subsample for estimator Pipeline(steps=[('ordinalencoder', OrdinalEncoder()),\n                ('simpleimputer', SimpleImputer()),\n                ('xgbclassifier',\n                 XGBClassifier(base_score=None, booster=None,\n                               colsample_bylevel=None, colsample_bynode=None,\n                               colsample_bytree=None, gamma=None, gpu_id=None,\n                               importance_type='gain',\n                               interaction_constraints=None, learning_rate=None,\n                               max_delta_step=None, max_depth=None,\n                               min_child_weight=None, missing=nan,\n                               monotone_constraints=None, n_estimators=100,\n                               n_jobs=None, num_parallel_tree=None,\n                               random_state=None, reg_alpha=None,\n                               reg_lambda=None, scale_pos_weight=None,\n                               subsample=None, tree_method=None,\n                               validate_parameters=None, verbosity=None))]). Check the list of available parameters with `estimator.get_params().keys()`."
     ]
    }
   ],
   "metadata": {}
  }
 ],
 "metadata": {
  "orig_nbformat": 4,
  "language_info": {
   "name": "python",
   "version": "3.8.8",
   "mimetype": "text/x-python",
   "codemirror_mode": {
    "name": "ipython",
    "version": 3
   },
   "pygments_lexer": "ipython3",
   "nbconvert_exporter": "python",
   "file_extension": ".py"
  },
  "kernelspec": {
   "name": "python3",
   "display_name": "Python 3.8.8 64-bit ('base': conda)"
  },
  "interpreter": {
   "hash": "2e24bdd4991107f237d26322f5cca01459c3402b0866c91a48c0ee116952b81a"
  }
 },
 "nbformat": 4,
 "nbformat_minor": 2
}